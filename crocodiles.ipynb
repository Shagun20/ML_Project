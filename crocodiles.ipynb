{
  "nbformat": 4,
  "nbformat_minor": 0,
  "metadata": {
    "colab": {
      "provenance": []
    },
    "kernelspec": {
      "name": "python3",
      "display_name": "Python 3"
    },
    "language_info": {
      "name": "python"
    }
  },
  "cells": [
    {
      "cell_type": "code",
      "execution_count": 1,
      "metadata": {
        "colab": {
          "base_uri": "https://localhost:8080/"
        },
        "id": "jreUCUvtDyj5",
        "outputId": "1502706a-5a2b-4c9c-ab00-6e65e2ff26c4"
      },
      "outputs": [
        {
          "output_type": "stream",
          "name": "stdout",
          "text": [
            "Mounted at /content/drive\n"
          ]
        }
      ],
      "source": [
        "from google.colab import drive\n",
        "drive.mount('/content/drive')\n",
        "import pandas as pd\n",
        "import seaborn as sns\n",
        "import numpy as np\n",
        "import matplotlib.pyplot as plt\n",
        "import seaborn as sns\n",
        "from sklearn import metrics\n",
        "from sklearn.exceptions import ConvergenceWarning, UndefinedMetricWarning\n",
        "from sklearn.metrics import confusion_matrix\n",
        "from sklearn.metrics import precision_score\n",
        "from sklearn.metrics import recall_score\n",
        "from sklearn.metrics import roc_curve, auc\n",
        "from sklearn.metrics import accuracy_score\n",
        "from sklearn.metrics import f1_score\n",
        "import numpy as np\n",
        "import matplotlib.pyplot as plt\n",
        "from itertools import cycle\n",
        "from sklearn import svm, datasets\n",
        "from sklearn.metrics import roc_curve, auc\n",
        "from sklearn.preprocessing import label_binarize\n",
        "from sklearn.multiclass import OneVsRestClassifier\n",
        "from sklearn.metrics import roc_auc_score\n",
        "from sklearn.model_selection import train_test_split\n",
        "from sklearn.naive_bayes import GaussianNB, MultinomialNB\n",
        "from sklearn.linear_model import LogisticRegression  \n",
        "from sklearn.manifold import TSNE\n",
        "from sklearn.decomposition import PCA\n",
        "import matplotlib.pyplot as plt\n",
        "import numpy as np\n",
        "from numpy import genfromtxt\n",
        "from sklearn.tree import DecisionTreeClassifier\n",
        "from sklearn.metrics import precision_score \n",
        "import pandas as pd"
      ]
    },
    {
      "cell_type": "markdown",
      "source": [
        "#death"
      ],
      "metadata": {
        "id": "B5fd3rwXLIm0"
      }
    },
    {
      "cell_type": "code",
      "source": [
        "df = pd.read_csv(\"/content/drive/MyDrive/weatherAUS-noWind.csv\")"
      ],
      "metadata": {
        "id": "98R1qg0gGDbT"
      },
      "execution_count": 38,
      "outputs": []
    },
    {
      "cell_type": "code",
      "source": [
        "df.head()"
      ],
      "metadata": {
        "colab": {
          "base_uri": "https://localhost:8080/",
          "height": 206
        },
        "id": "AwsjF1PdHpaX",
        "outputId": "04ba1966-6ba1-4e58-bd17-fb9e634cede0"
      },
      "execution_count": 40,
      "outputs": [
        {
          "output_type": "execute_result",
          "data": {
            "text/plain": [
              "   MinTemp  MaxTemp  Rainfall  Humidity9am  Humidity3pm  Pressure9am  \\\n",
              "0     13.4     22.9       0.6         71.0         22.0       1007.7   \n",
              "1      7.4     25.1       0.0         44.0         25.0       1010.6   \n",
              "2     12.9     25.7       0.0         38.0         30.0       1007.6   \n",
              "3      9.2     28.0       0.0         45.0         16.0       1017.6   \n",
              "4     17.5     32.3       1.0         82.0         33.0       1010.8   \n",
              "\n",
              "   Pressure3pm  Temp9am  Temp3pm  RainToday  RainTomorrow  WindSpeedNorth  \\\n",
              "0       1007.1     16.9     21.8          0             0            -0.0   \n",
              "1       1007.8     17.2     24.3          0             0            17.0   \n",
              "2       1008.7     21.0     23.2          0             0           -18.0   \n",
              "3       1012.8     18.1     26.5          0             0            17.0   \n",
              "4       1006.0     17.8     29.7          0             0            -0.0   \n",
              "\n",
              "   WindSpeedEast  WindSpeedNorth9am  WindSpeedEast9am  WindSpeedNorth3pm  \\\n",
              "0          -44.0               -0.0             -20.0                9.0   \n",
              "1          -41.0                4.0              -2.0               -8.0   \n",
              "2          -42.0               -0.0             -19.0              -10.0   \n",
              "3           17.0               -8.0               8.0                0.0   \n",
              "4          -41.0                3.0               6.0               14.0   \n",
              "\n",
              "   WindSpeedEast3pm  \n",
              "0             -22.0  \n",
              "1             -20.0  \n",
              "2             -24.0  \n",
              "3               9.0  \n",
              "4             -14.0  "
            ],
            "text/html": [
              "\n",
              "  <div id=\"df-dde2154f-73e2-46e9-9770-5448bf289618\">\n",
              "    <div class=\"colab-df-container\">\n",
              "      <div>\n",
              "<style scoped>\n",
              "    .dataframe tbody tr th:only-of-type {\n",
              "        vertical-align: middle;\n",
              "    }\n",
              "\n",
              "    .dataframe tbody tr th {\n",
              "        vertical-align: top;\n",
              "    }\n",
              "\n",
              "    .dataframe thead th {\n",
              "        text-align: right;\n",
              "    }\n",
              "</style>\n",
              "<table border=\"1\" class=\"dataframe\">\n",
              "  <thead>\n",
              "    <tr style=\"text-align: right;\">\n",
              "      <th></th>\n",
              "      <th>MinTemp</th>\n",
              "      <th>MaxTemp</th>\n",
              "      <th>Rainfall</th>\n",
              "      <th>Humidity9am</th>\n",
              "      <th>Humidity3pm</th>\n",
              "      <th>Pressure9am</th>\n",
              "      <th>Pressure3pm</th>\n",
              "      <th>Temp9am</th>\n",
              "      <th>Temp3pm</th>\n",
              "      <th>RainToday</th>\n",
              "      <th>RainTomorrow</th>\n",
              "      <th>WindSpeedNorth</th>\n",
              "      <th>WindSpeedEast</th>\n",
              "      <th>WindSpeedNorth9am</th>\n",
              "      <th>WindSpeedEast9am</th>\n",
              "      <th>WindSpeedNorth3pm</th>\n",
              "      <th>WindSpeedEast3pm</th>\n",
              "    </tr>\n",
              "  </thead>\n",
              "  <tbody>\n",
              "    <tr>\n",
              "      <th>0</th>\n",
              "      <td>13.4</td>\n",
              "      <td>22.9</td>\n",
              "      <td>0.6</td>\n",
              "      <td>71.0</td>\n",
              "      <td>22.0</td>\n",
              "      <td>1007.7</td>\n",
              "      <td>1007.1</td>\n",
              "      <td>16.9</td>\n",
              "      <td>21.8</td>\n",
              "      <td>0</td>\n",
              "      <td>0</td>\n",
              "      <td>-0.0</td>\n",
              "      <td>-44.0</td>\n",
              "      <td>-0.0</td>\n",
              "      <td>-20.0</td>\n",
              "      <td>9.0</td>\n",
              "      <td>-22.0</td>\n",
              "    </tr>\n",
              "    <tr>\n",
              "      <th>1</th>\n",
              "      <td>7.4</td>\n",
              "      <td>25.1</td>\n",
              "      <td>0.0</td>\n",
              "      <td>44.0</td>\n",
              "      <td>25.0</td>\n",
              "      <td>1010.6</td>\n",
              "      <td>1007.8</td>\n",
              "      <td>17.2</td>\n",
              "      <td>24.3</td>\n",
              "      <td>0</td>\n",
              "      <td>0</td>\n",
              "      <td>17.0</td>\n",
              "      <td>-41.0</td>\n",
              "      <td>4.0</td>\n",
              "      <td>-2.0</td>\n",
              "      <td>-8.0</td>\n",
              "      <td>-20.0</td>\n",
              "    </tr>\n",
              "    <tr>\n",
              "      <th>2</th>\n",
              "      <td>12.9</td>\n",
              "      <td>25.7</td>\n",
              "      <td>0.0</td>\n",
              "      <td>38.0</td>\n",
              "      <td>30.0</td>\n",
              "      <td>1007.6</td>\n",
              "      <td>1008.7</td>\n",
              "      <td>21.0</td>\n",
              "      <td>23.2</td>\n",
              "      <td>0</td>\n",
              "      <td>0</td>\n",
              "      <td>-18.0</td>\n",
              "      <td>-42.0</td>\n",
              "      <td>-0.0</td>\n",
              "      <td>-19.0</td>\n",
              "      <td>-10.0</td>\n",
              "      <td>-24.0</td>\n",
              "    </tr>\n",
              "    <tr>\n",
              "      <th>3</th>\n",
              "      <td>9.2</td>\n",
              "      <td>28.0</td>\n",
              "      <td>0.0</td>\n",
              "      <td>45.0</td>\n",
              "      <td>16.0</td>\n",
              "      <td>1017.6</td>\n",
              "      <td>1012.8</td>\n",
              "      <td>18.1</td>\n",
              "      <td>26.5</td>\n",
              "      <td>0</td>\n",
              "      <td>0</td>\n",
              "      <td>17.0</td>\n",
              "      <td>17.0</td>\n",
              "      <td>-8.0</td>\n",
              "      <td>8.0</td>\n",
              "      <td>0.0</td>\n",
              "      <td>9.0</td>\n",
              "    </tr>\n",
              "    <tr>\n",
              "      <th>4</th>\n",
              "      <td>17.5</td>\n",
              "      <td>32.3</td>\n",
              "      <td>1.0</td>\n",
              "      <td>82.0</td>\n",
              "      <td>33.0</td>\n",
              "      <td>1010.8</td>\n",
              "      <td>1006.0</td>\n",
              "      <td>17.8</td>\n",
              "      <td>29.7</td>\n",
              "      <td>0</td>\n",
              "      <td>0</td>\n",
              "      <td>-0.0</td>\n",
              "      <td>-41.0</td>\n",
              "      <td>3.0</td>\n",
              "      <td>6.0</td>\n",
              "      <td>14.0</td>\n",
              "      <td>-14.0</td>\n",
              "    </tr>\n",
              "  </tbody>\n",
              "</table>\n",
              "</div>\n",
              "      <button class=\"colab-df-convert\" onclick=\"convertToInteractive('df-dde2154f-73e2-46e9-9770-5448bf289618')\"\n",
              "              title=\"Convert this dataframe to an interactive table.\"\n",
              "              style=\"display:none;\">\n",
              "        \n",
              "  <svg xmlns=\"http://www.w3.org/2000/svg\" height=\"24px\"viewBox=\"0 0 24 24\"\n",
              "       width=\"24px\">\n",
              "    <path d=\"M0 0h24v24H0V0z\" fill=\"none\"/>\n",
              "    <path d=\"M18.56 5.44l.94 2.06.94-2.06 2.06-.94-2.06-.94-.94-2.06-.94 2.06-2.06.94zm-11 1L8.5 8.5l.94-2.06 2.06-.94-2.06-.94L8.5 2.5l-.94 2.06-2.06.94zm10 10l.94 2.06.94-2.06 2.06-.94-2.06-.94-.94-2.06-.94 2.06-2.06.94z\"/><path d=\"M17.41 7.96l-1.37-1.37c-.4-.4-.92-.59-1.43-.59-.52 0-1.04.2-1.43.59L10.3 9.45l-7.72 7.72c-.78.78-.78 2.05 0 2.83L4 21.41c.39.39.9.59 1.41.59.51 0 1.02-.2 1.41-.59l7.78-7.78 2.81-2.81c.8-.78.8-2.07 0-2.86zM5.41 20L4 18.59l7.72-7.72 1.47 1.35L5.41 20z\"/>\n",
              "  </svg>\n",
              "      </button>\n",
              "      \n",
              "  <style>\n",
              "    .colab-df-container {\n",
              "      display:flex;\n",
              "      flex-wrap:wrap;\n",
              "      gap: 12px;\n",
              "    }\n",
              "\n",
              "    .colab-df-convert {\n",
              "      background-color: #E8F0FE;\n",
              "      border: none;\n",
              "      border-radius: 50%;\n",
              "      cursor: pointer;\n",
              "      display: none;\n",
              "      fill: #1967D2;\n",
              "      height: 32px;\n",
              "      padding: 0 0 0 0;\n",
              "      width: 32px;\n",
              "    }\n",
              "\n",
              "    .colab-df-convert:hover {\n",
              "      background-color: #E2EBFA;\n",
              "      box-shadow: 0px 1px 2px rgba(60, 64, 67, 0.3), 0px 1px 3px 1px rgba(60, 64, 67, 0.15);\n",
              "      fill: #174EA6;\n",
              "    }\n",
              "\n",
              "    [theme=dark] .colab-df-convert {\n",
              "      background-color: #3B4455;\n",
              "      fill: #D2E3FC;\n",
              "    }\n",
              "\n",
              "    [theme=dark] .colab-df-convert:hover {\n",
              "      background-color: #434B5C;\n",
              "      box-shadow: 0px 1px 3px 1px rgba(0, 0, 0, 0.15);\n",
              "      filter: drop-shadow(0px 1px 2px rgba(0, 0, 0, 0.3));\n",
              "      fill: #FFFFFF;\n",
              "    }\n",
              "  </style>\n",
              "\n",
              "      <script>\n",
              "        const buttonEl =\n",
              "          document.querySelector('#df-dde2154f-73e2-46e9-9770-5448bf289618 button.colab-df-convert');\n",
              "        buttonEl.style.display =\n",
              "          google.colab.kernel.accessAllowed ? 'block' : 'none';\n",
              "\n",
              "        async function convertToInteractive(key) {\n",
              "          const element = document.querySelector('#df-dde2154f-73e2-46e9-9770-5448bf289618');\n",
              "          const dataTable =\n",
              "            await google.colab.kernel.invokeFunction('convertToInteractive',\n",
              "                                                     [key], {});\n",
              "          if (!dataTable) return;\n",
              "\n",
              "          const docLinkHtml = 'Like what you see? Visit the ' +\n",
              "            '<a target=\"_blank\" href=https://colab.research.google.com/notebooks/data_table.ipynb>data table notebook</a>'\n",
              "            + ' to learn more about interactive tables.';\n",
              "          element.innerHTML = '';\n",
              "          dataTable['output_type'] = 'display_data';\n",
              "          await google.colab.output.renderOutput(dataTable, element);\n",
              "          const docLink = document.createElement('div');\n",
              "          docLink.innerHTML = docLinkHtml;\n",
              "          element.appendChild(docLink);\n",
              "        }\n",
              "      </script>\n",
              "    </div>\n",
              "  </div>\n",
              "  "
            ]
          },
          "metadata": {},
          "execution_count": 40
        }
      ]
    },
    {
      "cell_type": "code",
      "source": [
        "X, y = df.loc[:, df.columns != \"RainTomorrow\"], df['RainTomorrow']\n",
        "# X=np.array(X)\n",
        "# y=np.array(y)"
      ],
      "metadata": {
        "id": "EalnymmJJJqm"
      },
      "execution_count": 41,
      "outputs": []
    },
    {
      "cell_type": "code",
      "source": [
        "X.shape"
      ],
      "metadata": {
        "colab": {
          "base_uri": "https://localhost:8080/"
        },
        "id": "MQb9Y3F8Wgsu",
        "outputId": "4033ae44-efdd-497c-ef7b-938bda789538"
      },
      "execution_count": 42,
      "outputs": [
        {
          "output_type": "execute_result",
          "data": {
            "text/plain": [
              "(142141, 16)"
            ]
          },
          "metadata": {},
          "execution_count": 42
        }
      ]
    },
    {
      "cell_type": "code",
      "source": [
        "from imblearn.over_sampling import RandomOverSampler\n",
        "from collections import Counter\n",
        "ros = RandomOverSampler()\n",
        "print(sorted(Counter(y).items()))\n",
        "X_resampled, y_resampled = ros.fit_resample(X, y)\n",
        "print(sorted(Counter(y_resampled).items()))"
      ],
      "metadata": {
        "colab": {
          "base_uri": "https://localhost:8080/"
        },
        "id": "8PaTi89Ptq0o",
        "outputId": "3e92c1f9-ae97-419e-a006-f92b10559bb9"
      },
      "execution_count": 43,
      "outputs": [
        {
          "output_type": "stream",
          "name": "stdout",
          "text": [
            "[(0, 110269), (1, 31872)]\n",
            "[(0, 110269), (1, 110269)]\n"
          ]
        }
      ]
    },
    {
      "cell_type": "code",
      "source": [
        "from sklearn.decomposition import PCA\n",
        "\n",
        "pca2=PCA(0.98)\n",
        "X_pc=pca2.fit_transform(X)\n",
        "X_pc.shape\n",
        "\n",
        "print(\"No of components created by pca =\",pca2.n_components_ )\n",
        "\n",
        "#how much variance is captured by the components\n",
        "print(\"Variance is captured by each component : \\n\", pca2.explained_variance_ratio_, \"\\n\")\n",
        "X_pc = pd.DataFrame(X_pc)"
      ],
      "metadata": {
        "colab": {
          "base_uri": "https://localhost:8080/"
        },
        "id": "vrBfl2BdQ1sX",
        "outputId": "36dd8a4b-2ad2-4d1a-b9d7-f149788c6e2f"
      },
      "execution_count": 85,
      "outputs": [
        {
          "output_type": "stream",
          "name": "stdout",
          "text": [
            "No of components created by pca = 10\n",
            "Variance is captured by each component : \n",
            " [0.31843978 0.27526178 0.19321948 0.0507638  0.03461409 0.03108995\n",
            " 0.02737924 0.0194306  0.01778283 0.01708278] \n",
            "\n"
          ]
        }
      ]
    },
    {
      "cell_type": "code",
      "source": [
        "from sklearn.decomposition import PCA\n",
        "\n",
        "pca=PCA(0.98)\n",
        "X_pca=pca.fit_transform(X_resampled)\n",
        "X_pca.shape\n",
        "\n",
        "print(\"No of components created by pca =\",pca.n_components_ )\n",
        "\n",
        "#how much variance is captured by the components\n",
        "print(\"Variance is captured by each component : \\n\", pca.explained_variance_ratio_, \"\\n\")\n",
        "X_pca = pd.DataFrame(X_pca)\n",
        "X_resampled = pd.DataFrame(X_resampled)\n",
        "y_resampled = pd.DataFrame(y_resampled)"
      ],
      "metadata": {
        "colab": {
          "base_uri": "https://localhost:8080/"
        },
        "id": "YsPcpLGDvLc3",
        "outputId": "40a0e53a-d90a-45ee-d3c6-c7ed6f99ecb5"
      },
      "execution_count": 53,
      "outputs": [
        {
          "output_type": "stream",
          "name": "stdout",
          "text": [
            "No of components created by pca = 10\n",
            "Variance is captured by each component : \n",
            " [0.32051993 0.27671621 0.18377339 0.0479644  0.03463597 0.03209473\n",
            " 0.03037378 0.02313163 0.01845896 0.01669095] \n",
            "\n"
          ]
        }
      ]
    },
    {
      "cell_type": "code",
      "source": [
        "X_train, X_temp, y_train, y_temp = train_test_split(X, y, test_size=0.3, random_state=0)\n",
        "X_test, X_val, y_test, y_val = train_test_split(X_temp, y_temp, test_size=0.5, random_state=0)"
      ],
      "metadata": {
        "id": "Q6zYefyQEnsR"
      },
      "execution_count": 54,
      "outputs": []
    },
    {
      "cell_type": "code",
      "source": [
        "X_train1, X_temp, y_train1, y_temp = train_test_split(X_pca, y_resampled, test_size=0.3, random_state=0)\n",
        "X_test1, X_val1, y_test1, y_val1 = train_test_split(X_temp, y_temp, test_size=0.5, random_state=0)"
      ],
      "metadata": {
        "id": "KiA25_IYHAge"
      },
      "execution_count": 55,
      "outputs": []
    },
    {
      "cell_type": "code",
      "source": [
        "X_train2, X_temp, y_train2, y_temp = train_test_split(X_resampled, y_resampled, test_size=0.3, random_state=0)\n",
        "X_test2, X_val2, y_test2, y_val2 = train_test_split(X_temp, y_temp, test_size=0.5, random_state=0)"
      ],
      "metadata": {
        "id": "t19h_R2EONlr"
      },
      "execution_count": 56,
      "outputs": []
    },
    {
      "cell_type": "code",
      "source": [
        "X_train0, X_temp, y_train0, y_temp = train_test_split(X_pc, y, test_size=0.3, random_state=0)\n",
        "X_test0, X_val0, y_test0, y_val0 = train_test_split(X_temp, y_temp, test_size=0.5, random_state=0)"
      ],
      "metadata": {
        "id": "hoz0D_-FQ-yi"
      },
      "execution_count": 89,
      "outputs": []
    },
    {
      "cell_type": "code",
      "source": [
        "from sklearn.preprocessing import StandardScaler\n",
        "import math\n",
        "standard_scaler = StandardScaler()\n",
        "standard_scaler = standard_scaler.fit(X_train0)\n",
        "\n",
        "X_train0 = pd.DataFrame(standard_scaler.transform(X_train0))\n",
        "\n",
        "means = standard_scaler.mean_\n",
        "vars = standard_scaler.var_\n",
        "print(len(X_test0.columns))\n",
        "i = 0\n",
        "for col in X_test0.columns:\n",
        "  X_test0[col] = (X_test0[col] - means[i])/math.sqrt(vars[i])\n",
        "  i+=1\n",
        "print(X_test0.describe())\n",
        "print(len(X_val0.columns))\n",
        "i = 0\n",
        "for col in X_val0.columns:\n",
        "  X_val0[col] = (X_val0[col] - means[i])/math.sqrt(vars[i])\n",
        "  i+=1\n",
        "print(X_val0.describe())"
      ],
      "metadata": {
        "colab": {
          "base_uri": "https://localhost:8080/"
        },
        "id": "6u5mT-WCRntd",
        "outputId": "b60b8626-b35f-4bde-fe2b-71e0393bd7b0"
      },
      "execution_count": 90,
      "outputs": [
        {
          "output_type": "stream",
          "name": "stdout",
          "text": [
            "10\n",
            "                  0             1             2             3             4  \\\n",
            "count  21321.000000  21321.000000  21321.000000  21321.000000  21321.000000   \n",
            "mean       0.006601      0.015999      0.007440     -0.000050     -0.007898   \n",
            "std        0.999543      0.999034      1.004435      0.997166      0.998562   \n",
            "min       -3.192443     -3.994476     -3.008634     -3.274393     -4.150666   \n",
            "25%       -0.812841     -0.751526     -0.684677     -0.700613     -0.645479   \n",
            "50%        0.045976      0.133859     -0.060888     -0.015853     -0.031679   \n",
            "75%        0.765709      0.757299      0.645007      0.695142      0.602193   \n",
            "max        3.598293      5.278723      3.689344      4.593446      5.125664   \n",
            "\n",
            "                  5             6             7             8             9  \n",
            "count  21321.000000  21321.000000  21321.000000  21321.000000  21321.000000  \n",
            "mean       0.011025     -0.000485      0.001224     -0.002365      0.004437  \n",
            "std        1.003229      0.999973      1.006875      0.987580      1.029334  \n",
            "min       -5.099906     -6.475477     -5.104914     -5.596200     -2.366625  \n",
            "25%       -0.587564     -0.570535     -0.629922     -0.593727     -0.474781  \n",
            "50%        0.007173      0.007684     -0.000690      0.033218     -0.110385  \n",
            "75%        0.588259      0.597083      0.651035      0.611201      0.280002  \n",
            "max        6.627515      4.911948      6.770402      7.065556     24.319500  \n",
            "10\n",
            "                  0             1             2             3             4  \\\n",
            "count  21322.000000  21322.000000  21322.000000  21322.000000  21322.000000   \n",
            "mean      -0.002818      0.010517     -0.006833     -0.002507      0.001905   \n",
            "std        0.996001      0.998211      0.998619      0.996278      0.995348   \n",
            "min       -3.908309     -3.761664     -3.052553     -3.482356     -4.717429   \n",
            "25%       -0.817076     -0.754196     -0.696586     -0.695132     -0.617466   \n",
            "50%        0.029032      0.122189     -0.083878     -0.018654     -0.021513   \n",
            "75%        0.764756      0.750810      0.624618      0.702270      0.608733   \n",
            "max        3.966454      3.768028      3.624698      5.523794      5.451568   \n",
            "\n",
            "                  5             6             7             8             9  \n",
            "count  21322.000000  21322.000000  21322.000000  21322.000000  21322.000000  \n",
            "mean      -0.001996      0.004351      0.003400     -0.003701      0.001711  \n",
            "std        0.999233      0.992090      1.003925      0.995190      1.017912  \n",
            "min       -4.967028     -6.811312     -6.229847     -5.942625     -2.514748  \n",
            "25%       -0.597252     -0.566666     -0.640162     -0.588934     -0.478027  \n",
            "50%       -0.004092      0.014206      0.005759      0.023214     -0.112368  \n",
            "75%        0.577927      0.586936      0.658375      0.618951      0.280210  \n",
            "max        4.691541      6.724768      5.856488     10.057936     30.176536  \n"
          ]
        }
      ]
    },
    {
      "cell_type": "code",
      "source": [
        "X_train0=np.array(X_train0)\n",
        "y_train0=np.array(y_train0)\n",
        "X_test0=np.array(X_test0)\n",
        "y_test0=np.array(y_test0)\n",
        "X_val0=np.array(X_val0)\n",
        "y_val0=np.array(y_val0)"
      ],
      "metadata": {
        "id": "2bAJsF25Ro0G"
      },
      "execution_count": 91,
      "outputs": []
    },
    {
      "cell_type": "code",
      "source": [
        "from sklearn.preprocessing import StandardScaler\n",
        "import math\n",
        "standard_scaler = StandardScaler()\n",
        "standard_scaler = standard_scaler.fit(X_train)\n",
        "\n",
        "X_train = pd.DataFrame(standard_scaler.transform(X_train))\n",
        "\n",
        "means = standard_scaler.mean_\n",
        "vars = standard_scaler.var_\n",
        "print(len(X_test.columns))\n",
        "i = 0\n",
        "for col in X_test.columns:\n",
        "  X_test[col] = (X_test[col] - means[i])/math.sqrt(vars[i])\n",
        "  i+=1\n",
        "print(X_test.describe())\n",
        "print(len(X_val.columns))\n",
        "i = 0\n",
        "for col in X_val.columns:\n",
        "  X_val[col] = (X_val[col] - means[i])/math.sqrt(vars[i])\n",
        "  i+=1\n",
        "print(X_val.describe())"
      ],
      "metadata": {
        "colab": {
          "base_uri": "https://localhost:8080/"
        },
        "id": "vuxroG_zHC6d",
        "outputId": "5fda9961-b4fb-48e4-e5c2-0dff29eb5fdf"
      },
      "execution_count": 57,
      "outputs": [
        {
          "output_type": "stream",
          "name": "stdout",
          "text": [
            "16\n",
            "            MinTemp       MaxTemp      Rainfall   Humidity9am   Humidity3pm  \\\n",
            "count  21321.000000  21321.000000  21321.000000  21321.000000  21321.000000   \n",
            "mean      -0.002579      0.000094      0.002624     -0.002023     -0.001968   \n",
            "std        0.996676      0.997611      1.033267      0.998012      1.004105   \n",
            "min       -3.232217     -3.837772     -0.277662     -3.568072     -2.492946   \n",
            "25%       -0.716922     -0.748874     -0.277662     -0.623951     -0.702402   \n",
            "50%       -0.029512     -0.088973     -0.277662      0.059506      0.023495   \n",
            "75%        0.720389      0.697293     -0.205906      0.742963      0.700998   \n",
            "max        3.001340      3.336897     26.630626      1.636714      2.346364   \n",
            "\n",
            "        Pressure9am   Pressure3pm       Temp9am       Temp3pm     RainToday  \\\n",
            "count  21321.000000  21321.000000  21321.000000  21321.000000  21321.000000   \n",
            "mean       0.009019      0.007803      0.000306      0.000587     -0.005197   \n",
            "std        0.993733      0.998704      0.996924      0.999167      0.996515   \n",
            "min       -4.722694     -4.681792     -3.690101     -3.876484     -0.533144   \n",
            "25%       -0.637480     -0.670439     -0.719795     -0.739309     -0.533144   \n",
            "50%        0.012112      0.012654     -0.042627     -0.074285     -0.533144   \n",
            "75%        0.705010      0.695747      0.711492      0.691937     -0.533144   \n",
            "max        3.245638      3.239178      3.574067      3.496600      1.875665   \n",
            "\n",
            "       WindSpeedNorth  WindSpeedEast  WindSpeedNorth9am  WindSpeedEast9am  \\\n",
            "count    21321.000000   21321.000000       21321.000000      21321.000000   \n",
            "mean        -0.012821      -0.014008          -0.007096         -0.006002   \n",
            "std          0.997266       1.000155           0.996410          1.004885   \n",
            "min         -4.689505      -3.547423          -7.186089         -5.326312   \n",
            "25%         -0.820369      -0.827414          -0.593239         -0.545508   \n",
            "50%          0.058980       0.155722          -0.016365         -0.014307   \n",
            "75%          0.762460       0.843917           0.560509          0.605427   \n",
            "max          3.822595       3.367300           5.010683          4.235297   \n",
            "\n",
            "       WindSpeedNorth3pm  WindSpeedEast3pm  \n",
            "count       21321.000000      21321.000000  \n",
            "mean           -0.011711         -0.001028  \n",
            "std             1.002072          1.005121  \n",
            "min            -5.099683         -5.278807  \n",
            "25%            -0.760180         -0.703299  \n",
            "50%             0.079724          0.047904  \n",
            "75%             0.709652          0.730816  \n",
            "max             4.349235          3.872210  \n",
            "16\n",
            "            MinTemp       MaxTemp      Rainfall   Humidity9am   Humidity3pm  \\\n",
            "count  21322.000000  21322.000000  21322.000000  21322.000000  21322.000000   \n",
            "mean       0.000577     -0.006077      0.005083      0.008990      0.006765   \n",
            "std        0.995206      0.995003      1.019206      0.995128      0.994246   \n",
            "min       -3.091610     -3.711408     -0.277662     -3.568072     -2.492946   \n",
            "25%       -0.716922     -0.734833     -0.277662     -0.623951     -0.702402   \n",
            "50%       -0.029512     -0.088973     -0.277662      0.059506      0.023495   \n",
            "75%        0.720389      0.683252     -0.181988      0.742963      0.652605   \n",
            "max        3.001340      3.210533     33.016860      1.636714      2.346364   \n",
            "\n",
            "        Pressure9am   Pressure3pm       Temp9am       Temp3pm     RainToday  \\\n",
            "count  21322.000000  21322.000000  21322.000000  21322.000000  21322.000000   \n",
            "mean       0.007090      0.006010     -0.001695     -0.003849      0.004607   \n",
            "std        0.990893      0.993228      0.998243      0.994045      1.003101   \n",
            "min       -5.040273     -5.132343     -3.474638     -3.702999     -0.533144   \n",
            "25%       -0.631466     -0.655905     -0.719795     -0.724852     -0.533144   \n",
            "50%        0.012112      0.012654     -0.042627     -0.074285     -0.533144   \n",
            "75%        0.676140      0.681213      0.696102      0.663023     -0.533144   \n",
            "max        3.216767      3.137441      3.235483      3.337573      1.875665   \n",
            "\n",
            "       WindSpeedNorth  WindSpeedEast  WindSpeedNorth9am  WindSpeedEast9am  \\\n",
            "count    21322.000000   21322.000000       21322.000000      21322.000000   \n",
            "mean        -0.009055       0.001139          -0.007723         -0.006119   \n",
            "std          1.001663       0.994273           0.994646          0.995701   \n",
            "min         -3.704634      -3.973449          -5.373055         -7.096981   \n",
            "25%         -0.820369      -0.827414          -0.593239         -0.545508   \n",
            "50%          0.058980       0.155722          -0.016365         -0.014307   \n",
            "75%          0.762460       0.843917           0.560509          0.605427   \n",
            "max          3.787421       4.579834           5.340325          5.297698   \n",
            "\n",
            "       WindSpeedNorth3pm  WindSpeedEast3pm  \n",
            "count       21322.000000      21322.000000  \n",
            "mean           -0.009753         -0.000055  \n",
            "std             1.006343          1.000948  \n",
            "min            -4.959699         -4.049566  \n",
            "25%            -0.760180         -0.703299  \n",
            "50%             0.079724          0.047904  \n",
            "75%             0.709652          0.730816  \n",
            "max             4.629203          3.052716  \n"
          ]
        }
      ]
    },
    {
      "cell_type": "code",
      "source": [
        "X_train=np.array(X_train)\n",
        "y_train=np.array(y_train)\n",
        "X_test=np.array(X_test)\n",
        "y_test=np.array(y_test)\n",
        "X_val=np.array(X_val)\n",
        "y_val=np.array(y_val)"
      ],
      "metadata": {
        "id": "HmLrMYymW4v1"
      },
      "execution_count": 58,
      "outputs": []
    },
    {
      "cell_type": "code",
      "source": [
        "from sklearn.preprocessing import StandardScaler\n",
        "import math\n",
        "standard_scaler = StandardScaler()\n",
        "standard_scaler = standard_scaler.fit(X_train1)\n",
        "\n",
        "X_train1 = pd.DataFrame(standard_scaler.transform(X_train1))\n",
        "\n",
        "means = standard_scaler.mean_\n",
        "vars = standard_scaler.var_\n",
        "print(len(X_test1.columns))\n",
        "i = 0\n",
        "for col in X_test1.columns:\n",
        "  X_test1[col] = (X_test1[col] - means[i])/math.sqrt(vars[i])\n",
        "  i+=1\n",
        "print(X_test1.describe())\n",
        "print(len(X_val1.columns))\n",
        "i = 0\n",
        "for col in X_val1.columns:\n",
        "  X_val1[col] = (X_val1[col] - means[i])/math.sqrt(vars[i])\n",
        "  i+=1\n",
        "print(X_val1.describe())"
      ],
      "metadata": {
        "id": "eBumS3VWvsGK",
        "colab": {
          "base_uri": "https://localhost:8080/"
        },
        "outputId": "9c22f345-0f5c-4930-f9c0-175c9a87e4f2"
      },
      "execution_count": 60,
      "outputs": [
        {
          "output_type": "stream",
          "name": "stdout",
          "text": [
            "10\n",
            "                  0             1             2             3             4  \\\n",
            "count  33081.000000  33081.000000  33081.000000  33081.000000  33081.000000   \n",
            "mean       0.071135      0.026863     -0.185756     -0.006404     -0.008599   \n",
            "std       35.193771     32.547285     26.711513     13.648732     11.551697   \n",
            "min     -123.999564   -119.192408    -84.052468    -47.559488    -60.956241   \n",
            "25%      -26.352267    -25.929659    -19.037016     -9.407829     -7.046771   \n",
            "50%       -2.228563      4.147854     -1.846439     -0.112482     -0.592251   \n",
            "75%       29.310688     24.351661     16.387269      9.121206      6.409427   \n",
            "max      106.219955    147.027727    100.029298    126.309624    186.405728   \n",
            "\n",
            "                  5             6             7             8             9  \n",
            "count  33081.000000  33081.000000  33081.000000  33081.000000  33081.000000  \n",
            "mean       0.021046      0.054059     -0.017539      0.005524     -0.024075  \n",
            "std       11.123487     10.855945      9.529254      8.413269      8.031271  \n",
            "min      -62.511775    -70.888863    -28.510960    -44.918623    -37.769873  \n",
            "25%       -6.613289     -5.736536     -5.555164     -5.156637     -5.222011  \n",
            "50%       -0.065748      0.004028     -0.511728      0.094403     -0.361174  \n",
            "75%        6.433147      5.794137      4.502785      5.354576      4.648996  \n",
            "max       64.018099    144.623850    236.982731     59.094392     42.759063  \n",
            "10\n",
            "                  0             1             2             3             4  \\\n",
            "count  33081.000000  33081.000000  33081.000000  33081.000000  33081.000000   \n",
            "mean      -0.205415      0.173708      0.029121     -0.090090      0.001698   \n",
            "std       35.163573     32.685869     26.666116     13.494871     11.475639   \n",
            "min     -121.371917   -119.192408    -84.052468    -47.898738    -45.960064   \n",
            "25%      -26.627430    -25.692716    -18.661046     -9.215666     -7.133931   \n",
            "50%       -3.138130      4.040284     -1.739744     -0.175624     -0.476796   \n",
            "75%       29.015061     24.368991     16.548529      8.944804      6.384815   \n",
            "max      120.799935    147.027727     99.651694     90.805094    128.735958   \n",
            "\n",
            "                  5             6             7             8             9  \n",
            "count  33081.000000  33081.000000  33081.000000  33081.000000  33081.000000  \n",
            "mean      -0.062927      0.024206      0.018558      0.008780      0.049597  \n",
            "std       11.132107     10.792505      9.274767      8.434663      8.001900  \n",
            "min      -62.511775    -65.456064    -34.361578    -44.745046    -54.719944  \n",
            "25%       -6.787140     -5.744187     -5.475662     -5.227713     -5.097985  \n",
            "50%       -0.086481     -0.031227     -0.452054      0.125556     -0.324971  \n",
            "75%        6.366942      5.759955      4.596464      5.369749      4.729204  \n",
            "max       67.584803    112.758425    181.594244     53.233798     46.259218  \n"
          ]
        }
      ]
    },
    {
      "cell_type": "code",
      "source": [
        "X_train1=np.array(X_train1)\n",
        "y_train1=np.array(y_train1)\n",
        "X_test1=np.array(X_test1)\n",
        "y_test1=np.array(y_test1)\n",
        "X_val1=np.array(X_val1)\n",
        "y_val1=np.array(y_val1)"
      ],
      "metadata": {
        "id": "QYP47VUYNXcs"
      },
      "execution_count": 61,
      "outputs": []
    },
    {
      "cell_type": "code",
      "source": [
        "from sklearn.preprocessing import StandardScaler\n",
        "import math\n",
        "standard_scaler = StandardScaler()\n",
        "standard_scaler = standard_scaler.fit(X_train2)\n",
        "\n",
        "X_train2 = pd.DataFrame(standard_scaler.transform(X_train2))\n",
        "\n",
        "means = standard_scaler.mean_\n",
        "vars = standard_scaler.var_\n",
        "print(len(X_test2.columns))\n",
        "i = 0\n",
        "for col in X_test2.columns:\n",
        "  X_test2[col] = (X_test2[col] - means[i])/math.sqrt(vars[i])\n",
        "  i+=1\n",
        "print(X_test2.describe())\n",
        "print(len(X_val2.columns))\n",
        "i = 0\n",
        "for col in X_val2.columns:\n",
        "  X_val2[col] = (X_val2[col] - means[i])/math.sqrt(vars[i])\n",
        "  i+=1\n",
        "print(X_val2.describe())"
      ],
      "metadata": {
        "colab": {
          "base_uri": "https://localhost:8080/"
        },
        "id": "qRG4HvJmOeBy",
        "outputId": "71172125-810b-4e01-9d9f-dcae889d701d"
      },
      "execution_count": 63,
      "outputs": [
        {
          "output_type": "stream",
          "name": "stdout",
          "text": [
            "16\n",
            "            MinTemp       MaxTemp      Rainfall   Humidity9am   Humidity3pm  \\\n",
            "count  33081.000000  33081.000000  3.308100e+04  33081.000000  33081.000000   \n",
            "mean      12.543529     22.454590  3.682942e+00     72.244561     57.729190   \n",
            "std        6.391667      7.115774  1.113319e+01     18.452853     21.675481   \n",
            "min       -8.000000     -3.100000  1.445240e-17      1.000000      1.000000   \n",
            "25%        7.900000     17.200000  1.445240e-17     61.000000     43.000000   \n",
            "50%       12.200000     21.800000  1.445240e-17     74.000000     58.000000   \n",
            "75%       17.200000     27.400000  2.200000e+00     87.000000     73.000000   \n",
            "max       31.800000     46.900000  3.676000e+02    100.000000    100.000000   \n",
            "\n",
            "        Pressure9am   Pressure3pm       Temp9am       Temp3pm     RainToday  \\\n",
            "count  33081.000000  33081.000000  33081.000000  33081.000000  3.308100e+04   \n",
            "mean    1016.751678   1014.525682     16.844251     20.811793  3.068831e-01   \n",
            "std        7.124502      7.095924      6.465295      6.909331  4.612074e-01   \n",
            "min      980.500000    977.100000     -5.200000     -3.900000 -8.873960e-17   \n",
            "25%     1012.100000   1009.800000     12.100000     15.800000 -8.873960e-17   \n",
            "50%     1016.866667   1014.700000     16.500000     20.100000 -8.873960e-17   \n",
            "75%     1021.600000   1019.400000     21.400000     25.400000  1.000000e+00   \n",
            "max     1039.900000   1037.800000     37.700000     46.200000  1.000000e+00   \n",
            "\n",
            "       WindSpeedNorth  WindSpeedEast  WindSpeedNorth9am  WindSpeedEast9am  \\\n",
            "count    3.308100e+04   33081.000000       3.308100e+04      3.308100e+04   \n",
            "mean    -8.651794e-01      -6.983132       7.737674e-01     -5.249237e-01   \n",
            "std      3.011048e+01      31.578002       1.266595e+01      1.154310e+01   \n",
            "min     -1.350000e+02    -115.000000      -8.700000e+01     -5.800000e+01   \n",
            "25%     -2.500000e+01     -33.000000      -7.000000e+00     -7.000000e+00   \n",
            "50%     -2.904289e-17      -7.000000       1.834166e-17      2.913494e-17   \n",
            "75%      2.200000e+01      20.000000       8.000000e+00      6.000000e+00   \n",
            "max      1.250000e+02     100.000000       6.300000e+01      6.700000e+01   \n",
            "\n",
            "       WindSpeedNorth3pm  WindSpeedEast3pm  \n",
            "count       3.308100e+04      3.308100e+04  \n",
            "mean       -7.796620e-01     -1.401620e+00  \n",
            "std         1.494665e+01      1.488681e+01  \n",
            "min        -7.400000e+01     -6.400000e+01  \n",
            "25%        -1.200000e+01     -1.200000e+01  \n",
            "50%        -6.673880e-18     -3.498034e-18  \n",
            "75%         1.000000e+01      9.000000e+00  \n",
            "max         6.500000e+01      5.800000e+01  \n",
            "16\n",
            "            MinTemp       MaxTemp      Rainfall   Humidity9am   Humidity3pm  \\\n",
            "count  33081.000000  33081.000000  3.308100e+04  33081.000000  33081.000000   \n",
            "mean      12.488957     22.433113  3.661079e+00     72.150933     57.581341   \n",
            "std        6.334805      7.079727  1.073494e+01     18.510467     21.637300   \n",
            "min       -7.800000     -4.100000  1.445240e-17      1.000000      1.000000   \n",
            "25%        7.900000     17.200000  1.445240e-17     61.000000     43.000000   \n",
            "50%       12.200000     21.700000  1.445240e-17     74.000000     58.000000   \n",
            "75%       17.100000     27.400000  2.200000e+00     87.000000     73.000000   \n",
            "max       33.900000     46.800000  2.686000e+02    100.000000    100.000000   \n",
            "\n",
            "        Pressure9am   Pressure3pm       Temp9am       Temp3pm     RainToday  \\\n",
            "count  33081.000000  33081.000000  33081.000000  33081.000000  3.308100e+04   \n",
            "mean    1016.748996   1014.552628     16.807390     20.783877  3.080923e-01   \n",
            "std        7.140821      7.090608      6.405231      6.881177  4.617119e-01   \n",
            "min      982.000000    977.100000     -7.000000     -4.400000 -8.873960e-17   \n",
            "25%     1012.166667   1009.800000     12.100000     15.800000 -8.873960e-17   \n",
            "50%     1016.866667   1014.600000     16.400000     20.100000 -8.873960e-17   \n",
            "75%     1021.700000   1019.433333     21.300000     25.400000  1.000000e+00   \n",
            "max     1040.200000   1038.500000     37.300000     46.100000  1.000000e+00   \n",
            "\n",
            "       WindSpeedNorth  WindSpeedEast  WindSpeedNorth9am  WindSpeedEast9am  \\\n",
            "count    3.308100e+04   33081.000000       3.308100e+04      3.308100e+04   \n",
            "mean    -8.918715e-01      -7.256764       8.720414e-01     -6.610743e-01   \n",
            "std      3.026664e+01      31.455135       1.272611e+01      1.149916e+01   \n",
            "min     -1.350000e+02    -126.000000      -8.700000e+01     -5.900000e+01   \n",
            "25%     -2.500000e+01     -33.000000      -7.000000e+00     -8.000000e+00   \n",
            "50%     -2.904289e-17      -7.000000       1.834166e-17      2.913494e-17   \n",
            "75%      2.200000e+01      20.000000       8.000000e+00      6.000000e+00   \n",
            "max      9.800000e+01     135.000000       6.500000e+01      6.000000e+01   \n",
            "\n",
            "       WindSpeedNorth3pm  WindSpeedEast3pm  \n",
            "count       3.308100e+04      3.308100e+04  \n",
            "mean       -7.997340e-01     -1.558931e+00  \n",
            "std         1.494953e+01      1.490501e+01  \n",
            "min        -7.400000e+01     -6.400000e+01  \n",
            "25%        -1.100000e+01     -1.200000e+01  \n",
            "50%        -6.673880e-18     -3.498034e-18  \n",
            "75%         1.000000e+01      9.000000e+00  \n",
            "max         6.500000e+01      5.800000e+01  \n"
          ]
        }
      ]
    },
    {
      "cell_type": "code",
      "source": [
        "X_train2=np.array(X_train2)\n",
        "y_train2=np.array(y_train2)\n",
        "X_test2=np.array(X_test2)\n",
        "y_test2=np.array(y_test2)\n",
        "X_val2=np.array(X_val2)\n",
        "y_val2=np.array(y_val2)"
      ],
      "metadata": {
        "id": "b013kO2tOnhK"
      },
      "execution_count": 64,
      "outputs": []
    },
    {
      "cell_type": "markdown",
      "source": [
        "#Naive Bayes"
      ],
      "metadata": {
        "id": "AzH7ERecEBzn"
      }
    },
    {
      "cell_type": "code",
      "source": [
        "from sklearn.naive_bayes import GaussianNB\n",
        "gnb= GaussianNB()\n",
        "gnb.fit(X_train,y_train)\n",
        "y_pred=gnb.predict(X_val)\n",
        "print(precision_score(y_val, y_pred, average = 'micro'),'micro')\n",
        "print(precision_score(y_val, y_pred, average = 'weighted'),'weghted')\n",
        "print(precision_score(y_val, y_pred, average = 'macro'),'micro')"
      ],
      "metadata": {
        "colab": {
          "base_uri": "https://localhost:8080/"
        },
        "id": "LmM9N7OsEEbC",
        "outputId": "825d0619-6481-4c6b-fec9-ba18e378ccac"
      },
      "execution_count": 65,
      "outputs": [
        {
          "output_type": "stream",
          "name": "stdout",
          "text": [
            "0.804333552199606 micro\n",
            "0.7977947204871099 weghted\n",
            "0.7193691030958733 micro\n"
          ]
        }
      ]
    },
    {
      "cell_type": "code",
      "source": [
        "\n",
        "from sklearn.metrics import classification_report\n",
        "\n",
        "print(classification_report(y_val, y_pred))"
      ],
      "metadata": {
        "colab": {
          "base_uri": "https://localhost:8080/"
        },
        "id": "ph3Ghx2bH6v0",
        "outputId": "ac582ceb-cb63-4a0a-c3e2-b5821cc875cb"
      },
      "execution_count": 66,
      "outputs": [
        {
          "output_type": "stream",
          "name": "stdout",
          "text": [
            "              precision    recall  f1-score   support\n",
            "\n",
            "           0       0.86      0.89      0.88     16490\n",
            "           1       0.58      0.52      0.55      4832\n",
            "\n",
            "    accuracy                           0.80     21322\n",
            "   macro avg       0.72      0.70      0.71     21322\n",
            "weighted avg       0.80      0.80      0.80     21322\n",
            "\n"
          ]
        }
      ]
    },
    {
      "cell_type": "code",
      "source": [
        "sns.heatmap(confusion_matrix(y_val, y_pred),annot=True)"
      ],
      "metadata": {
        "colab": {
          "base_uri": "https://localhost:8080/",
          "height": 282
        },
        "id": "D500pbN4JMV5",
        "outputId": "d43365a9-0d1a-424f-e7e7-a8a1d51e980a"
      },
      "execution_count": 67,
      "outputs": [
        {
          "output_type": "execute_result",
          "data": {
            "text/plain": [
              "<matplotlib.axes._subplots.AxesSubplot at 0x7f2832deffd0>"
            ]
          },
          "metadata": {},
          "execution_count": 67
        },
        {
          "output_type": "display_data",
          "data": {
            "text/plain": [
              "<Figure size 432x288 with 2 Axes>"
            ],
            "image/png": "[encoded data removed]"
          },
          "metadata": {
            "needs_background": "light"
          }
        }
      ]
    },
    {
      "cell_type": "code",
      "source": [
        "from sklearn.naive_bayes import GaussianNB\n",
        "gnb= GaussianNB()\n",
        "gnb.fit(X_train1,y_train1)\n",
        "y_pred1=gnb.predict(X_val1)\n",
        "print(precision_score(y_val1, y_pred1, average = 'micro'),'micro')\n",
        "print(precision_score(y_val1, y_pred1, average = 'weighted'),'weghted')\n",
        "print(precision_score(y_val1, y_pred1, average = 'macro'),'micro')"
      ],
      "metadata": {
        "colab": {
          "base_uri": "https://localhost:8080/"
        },
        "id": "429YJcVEOvty",
        "outputId": "5216a50c-7c4d-4f91-dd07-1b19734fb615"
      },
      "execution_count": 68,
      "outputs": [
        {
          "output_type": "stream",
          "name": "stdout",
          "text": [
            "0.519603397720746 micro\n",
            "0.6504224031862413 weghted\n",
            "0.6505029358814152 micro\n"
          ]
        },
        {
          "output_type": "stream",
          "name": "stderr",
          "text": [
            "/usr/local/lib/python3.8/dist-packages/sklearn/utils/validation.py:993: DataConversionWarning: A column-vector y was passed when a 1d array was expected. Please change the shape of y to (n_samples, ), for example using ravel().\n",
            "  y = column_or_1d(y, warn=True)\n"
          ]
        }
      ]
    },
    {
      "cell_type": "code",
      "source": [
        "\n",
        "from sklearn.metrics import classification_report\n",
        "\n",
        "print(classification_report(y_val1, y_pred1))"
      ],
      "metadata": {
        "colab": {
          "base_uri": "https://localhost:8080/"
        },
        "id": "AkndWsWzOx1S",
        "outputId": "6c583164-400c-4750-dcd5-5aab7eb1c007"
      },
      "execution_count": 69,
      "outputs": [
        {
          "output_type": "stream",
          "name": "stdout",
          "text": [
            "              precision    recall  f1-score   support\n",
            "\n",
            "           0       0.79      0.05      0.10     16531\n",
            "           1       0.51      0.99      0.67     16550\n",
            "\n",
            "    accuracy                           0.52     33081\n",
            "   macro avg       0.65      0.52      0.39     33081\n",
            "weighted avg       0.65      0.52      0.39     33081\n",
            "\n"
          ]
        }
      ]
    },
    {
      "cell_type": "code",
      "source": [
        "sns.heatmap(confusion_matrix(y_val1, y_pred1),annot=True)"
      ],
      "metadata": {
        "colab": {
          "base_uri": "https://localhost:8080/",
          "height": 282
        },
        "id": "L-IbldiWO1Gd",
        "outputId": "22567908-f547-4c1e-8d79-8d1dabd33933"
      },
      "execution_count": 70,
      "outputs": [
        {
          "output_type": "execute_result",
          "data": {
            "text/plain": [
              "<matplotlib.axes._subplots.AxesSubplot at 0x7f28326f7d60>"
            ]
          },
          "metadata": {},
          "execution_count": 70
        },
        {
          "output_type": "display_data",
          "data": {
            "text/plain": [
              "<Figure size 432x288 with 2 Axes>"
            ],
            "image/png": "[encoded data removed]"
          },
          "metadata": {
            "needs_background": "light"
          }
        }
      ]
    },
    {
      "cell_type": "code",
      "source": [
        "from sklearn.naive_bayes import GaussianNB\n",
        "gnb= GaussianNB()\n",
        "gnb.fit(X_train2,y_train2)\n",
        "y_pred2=gnb.predict(X_val2)\n",
        "print(precision_score(y_val2, y_pred2, average = 'micro'),'micro')\n",
        "print(precision_score(y_val2, y_pred2, average = 'weighted'),'weghted')\n",
        "print(precision_score(y_val2, y_pred2, average = 'macro'),'micro')"
      ],
      "metadata": {
        "colab": {
          "base_uri": "https://localhost:8080/"
        },
        "id": "0e7LF1imOwfC",
        "outputId": "adf5f16b-f38b-4795-e5a5-5940498cc537"
      },
      "execution_count": 93,
      "outputs": [
        {
          "output_type": "stream",
          "name": "stdout",
          "text": [
            "0.8133852359065754 micro\n",
            "0.7956506517865894 weghted\n",
            "0.750802542964291 micro\n"
          ]
        }
      ]
    },
    {
      "cell_type": "code",
      "source": [
        "\n",
        "from sklearn.metrics import classification_report\n",
        "\n",
        "print(classification_report(y_val2, y_pred2))"
      ],
      "metadata": {
        "colab": {
          "base_uri": "https://localhost:8080/"
        },
        "id": "QtzswN_rOzsq",
        "outputId": "75e4fd91-d5fc-4921-cc09-998ad61c2fcf"
      },
      "execution_count": 72,
      "outputs": [
        {
          "output_type": "stream",
          "name": "stdout",
          "text": [
            "              precision    recall  f1-score   support\n",
            "\n",
            "           0       0.00      0.00      0.00     16531\n",
            "           1       0.50      1.00      0.67     16550\n",
            "\n",
            "    accuracy                           0.50     33081\n",
            "   macro avg       0.25      0.50      0.33     33081\n",
            "weighted avg       0.25      0.50      0.33     33081\n",
            "\n"
          ]
        },
        {
          "output_type": "stream",
          "name": "stderr",
          "text": [
            "/usr/local/lib/python3.8/dist-packages/sklearn/metrics/_classification.py:1318: UndefinedMetricWarning: Precision and F-score are ill-defined and being set to 0.0 in labels with no predicted samples. Use `zero_division` parameter to control this behavior.\n",
            "  _warn_prf(average, modifier, msg_start, len(result))\n",
            "/usr/local/lib/python3.8/dist-packages/sklearn/metrics/_classification.py:1318: UndefinedMetricWarning: Precision and F-score are ill-defined and being set to 0.0 in labels with no predicted samples. Use `zero_division` parameter to control this behavior.\n",
            "  _warn_prf(average, modifier, msg_start, len(result))\n",
            "/usr/local/lib/python3.8/dist-packages/sklearn/metrics/_classification.py:1318: UndefinedMetricWarning: Precision and F-score are ill-defined and being set to 0.0 in labels with no predicted samples. Use `zero_division` parameter to control this behavior.\n",
            "  _warn_prf(average, modifier, msg_start, len(result))\n"
          ]
        }
      ]
    },
    {
      "cell_type": "code",
      "source": [
        "sns.heatmap(confusion_matrix(y_val2, y_pred2),annot=True)"
      ],
      "metadata": {
        "colab": {
          "base_uri": "https://localhost:8080/",
          "height": 282
        },
        "id": "SSHYkkrOO1t6",
        "outputId": "87c6e6ec-9c20-44d6-e129-6f1203be7191"
      },
      "execution_count": 73,
      "outputs": [
        {
          "output_type": "execute_result",
          "data": {
            "text/plain": [
              "<matplotlib.axes._subplots.AxesSubplot at 0x7f28321ded30>"
            ]
          },
          "metadata": {},
          "execution_count": 73
        },
        {
          "output_type": "display_data",
          "data": {
            "text/plain": [
              "<Figure size 432x288 with 2 Axes>"
            ],
            "image/png": "[encoded data removed]"
          },
          "metadata": {
            "needs_background": "light"
          }
        }
      ]
    },
    {
      "cell_type": "code",
      "source": [
        "from sklearn.naive_bayes import GaussianNB\n",
        "gnb= GaussianNB()\n",
        "gnb.fit(X_train0,y_train0)\n",
        "y_pred0=gnb.predict(X_val0)\n",
        "print(precision_score(y_val0, y_pred0, average = 'micro'),'micro')\n",
        "print(precision_score(y_val0, y_pred0, average = 'weighted'),'weghted')\n",
        "print(precision_score(y_val0, y_pred0, average = 'macro'),'micro')"
      ],
      "metadata": {
        "colab": {
          "base_uri": "https://localhost:8080/"
        },
        "id": "sA7i180MSJcW",
        "outputId": "67a83412-0d40-4d28-daad-a0c6e4fd3025"
      },
      "execution_count": 95,
      "outputs": [
        {
          "output_type": "stream",
          "name": "stdout",
          "text": [
            "0.8133852359065754 micro\n",
            "0.7956506517865894 weghted\n",
            "0.750802542964291 micro\n"
          ]
        }
      ]
    },
    {
      "cell_type": "code",
      "source": [
        "\n",
        "from sklearn.metrics import classification_report\n",
        "\n",
        "print(classification_report(y_val0, y_pred0))"
      ],
      "metadata": {
        "colab": {
          "base_uri": "https://localhost:8080/"
        },
        "id": "cOfXpR-2SK7O",
        "outputId": "ef65555d-55b2-465b-bd9a-c94d2bb41177"
      },
      "execution_count": 96,
      "outputs": [
        {
          "output_type": "stream",
          "name": "stdout",
          "text": [
            "              precision    recall  f1-score   support\n",
            "\n",
            "           0       0.83      0.95      0.89     16490\n",
            "           1       0.67      0.35      0.46      4832\n",
            "\n",
            "    accuracy                           0.81     21322\n",
            "   macro avg       0.75      0.65      0.67     21322\n",
            "weighted avg       0.80      0.81      0.79     21322\n",
            "\n"
          ]
        }
      ]
    },
    {
      "cell_type": "code",
      "source": [
        "sns.heatmap(confusion_matrix(y_val0, y_pred0),annot=True)"
      ],
      "metadata": {
        "colab": {
          "base_uri": "https://localhost:8080/",
          "height": 282
        },
        "id": "4wpmZL_WSMIt",
        "outputId": "bdada3ba-91c5-47d2-dd39-1d61e9c001d5"
      },
      "execution_count": 97,
      "outputs": [
        {
          "output_type": "execute_result",
          "data": {
            "text/plain": [
              "<matplotlib.axes._subplots.AxesSubplot at 0x7f2831f85c10>"
            ]
          },
          "metadata": {},
          "execution_count": 97
        },
        {
          "output_type": "display_data",
          "data": {
            "text/plain": [
              "<Figure size 432x288 with 2 Axes>"
            ],
            "image/png": "[encoded data removed]"
          },
          "metadata": {
            "needs_background": "light"
          }
        }
      ]
    },
    {
      "cell_type": "markdown",
      "source": [
        "#Logistic Udhar"
      ],
      "metadata": {
        "id": "P6Vu8CCHEEvm"
      }
    },
    {
      "cell_type": "code",
      "source": [
        "prf=[]\n",
        "\n",
        "model = LogisticRegression(max_iter=100,penalty='l2')\n",
        "model.fit(X_train, y_train) \n",
        "predictions = model.predict(X_test)\n",
        "pp=precision_score(y_test, predictions, average = 'weighted')\n",
        "rr=recall_score(y_test, predictions, average = 'weighted')\n",
        "ff=f1_score(y_test, predictions, average = 'weighted')\n",
        "aa=accuracy_score(y_test, predictions)\n",
        "temp=[pp,rr,ff,aa]\n",
        "print(temp)\n",
        "prf=prf+[temp]\n",
        "prf=pd.DataFrame(prf)"
      ],
      "metadata": {
        "colab": {
          "base_uri": "https://localhost:8080/"
        },
        "id": "KLmpg_643Rn2",
        "outputId": "6dd62ab1-1cff-4d09-d005-db2f0696350b"
      },
      "execution_count": 13,
      "outputs": [
        {
          "output_type": "stream",
          "name": "stdout",
          "text": [
            "[0.8267965195284297, 0.8383753107265137, 0.8247564061954583, 0.8383753107265137]\n"
          ]
        }
      ]
    },
    {
      "cell_type": "code",
      "source": [
        "prf=[]\n",
        "\n",
        "model = LogisticRegression(max_iter=100,penalty='l2')\n",
        "model.fit(X_train0, y_train0) \n",
        "predictions = model.predict(X_test0)\n",
        "pp=precision_score(y_test0, predictions, average = 'weighted')\n",
        "rr=recall_score(y_test0, predictions, average = 'weighted')\n",
        "ff=f1_score(y_test0, predictions, average = 'weighted')\n",
        "aa=accuracy_score(y_test0, predictions)\n",
        "temp=[pp,rr,ff,aa]\n",
        "print(temp)\n",
        "prf=prf+[temp]\n",
        "prf=pd.DataFrame(prf)"
      ],
      "metadata": {
        "colab": {
          "base_uri": "https://localhost:8080/"
        },
        "id": "6UgMnLCNPajr",
        "outputId": "2165f29f-7e78-46b8-eb6e-e355053d21e6"
      },
      "execution_count": 115,
      "outputs": [
        {
          "output_type": "stream",
          "name": "stdout",
          "text": [
            "[0.8255325173299628, 0.8372965620749496, 0.8225344263669317, 0.8372965620749496]\n"
          ]
        }
      ]
    },
    {
      "cell_type": "code",
      "source": [
        "prf=[]\n",
        "\n",
        "model = LogisticRegression(max_iter=100,penalty='l2')\n",
        "model.fit(X_train1, y_train1) \n",
        "predictions = model.predict(X_test1)\n",
        "pp=precision_score(y_test1, predictions, average = 'weighted')\n",
        "rr=recall_score(y_test1, predictions, average = 'weighted')\n",
        "ff=f1_score(y_test1, predictions, average = 'weighted')\n",
        "aa=accuracy_score(y_test1, predictions)\n",
        "temp=[pp,rr,ff,aa]\n",
        "print(temp)\n",
        "prf=prf+[temp]\n",
        "prf=pd.DataFrame(prf)"
      ],
      "metadata": {
        "colab": {
          "base_uri": "https://localhost:8080/"
        },
        "id": "hPyQjvvLPaxB",
        "outputId": "21a4c789-10f0-42d5-fb59-369b386b717b"
      },
      "execution_count": 116,
      "outputs": [
        {
          "output_type": "stream",
          "name": "stderr",
          "text": [
            "/usr/local/lib/python3.8/dist-packages/sklearn/utils/validation.py:993: DataConversionWarning: A column-vector y was passed when a 1d array was expected. Please change the shape of y to (n_samples, ), for example using ravel().\n",
            "  y = column_or_1d(y, warn=True)\n"
          ]
        },
        {
          "output_type": "stream",
          "name": "stdout",
          "text": [
            "[0.7417552118925703, 0.7417550860010278, 0.7417551157344701, 0.7417550860010278]\n"
          ]
        }
      ]
    },
    {
      "cell_type": "code",
      "source": [
        "prf=[]\n",
        "\n",
        "model = LogisticRegression(max_iter=100,penalty='l2')\n",
        "model.fit(X_train2, y_train2) \n",
        "predictions = model.predict(X_test2)\n",
        "pp=precision_score(y_test2, predictions, average = 'weighted')\n",
        "rr=recall_score(y_test2, predictions, average = 'weighted')\n",
        "ff=f1_score(y_test2, predictions, average = 'weighted')\n",
        "aa=accuracy_score(y_test2, predictions)\n",
        "temp=[pp,rr,ff,aa]\n",
        "print(temp)\n",
        "prf=prf+[temp]\n",
        "prf=pd.DataFrame(prf)"
      ],
      "metadata": {
        "colab": {
          "base_uri": "https://localhost:8080/"
        },
        "id": "8m5WYcVYdXhK",
        "outputId": "2e8a95f3-485e-4dd2-aa50-b331146ce84a"
      },
      "execution_count": 117,
      "outputs": [
        {
          "output_type": "stream",
          "name": "stderr",
          "text": [
            "/usr/local/lib/python3.8/dist-packages/sklearn/utils/validation.py:993: DataConversionWarning: A column-vector y was passed when a 1d array was expected. Please change the shape of y to (n_samples, ), for example using ravel().\n",
            "  y = column_or_1d(y, warn=True)\n"
          ]
        },
        {
          "output_type": "stream",
          "name": "stdout",
          "text": [
            "[0.250378003181737, 0.5003778604032526, 0.3337532628140001, 0.5003778604032526]\n"
          ]
        },
        {
          "output_type": "stream",
          "name": "stderr",
          "text": [
            "/usr/local/lib/python3.8/dist-packages/sklearn/metrics/_classification.py:1318: UndefinedMetricWarning: Precision is ill-defined and being set to 0.0 in labels with no predicted samples. Use `zero_division` parameter to control this behavior.\n",
            "  _warn_prf(average, modifier, msg_start, len(result))\n"
          ]
        }
      ]
    },
    {
      "cell_type": "markdown",
      "source": [
        "#Decision Trees"
      ],
      "metadata": {
        "id": "DjkQ1G74EKQW"
      }
    },
    {
      "cell_type": "code",
      "source": [
        "mdepth1=[6,7,8,9,10,11,12,13]\n",
        "gien_list1=[]\n",
        "best_val1=0\n",
        "best_model1=0\n",
        "for dpth in range(len(mdepth1)):\n",
        "  gini_clf1=DecisionTreeClassifier(criterion='gini',max_depth=mdepth1[dpth],random_state=0)\n",
        "  gini_clf1=gini_clf1.fit(X_train0,y_train0)\n",
        "  gini_val1 = gini_clf1.predict(X_val0)\n",
        "  entr_clf1=DecisionTreeClassifier(criterion='entropy',max_depth=mdepth1[dpth],random_state=0)\n",
        "  entr_clf1=entr_clf1.fit(X_train0,y_train0)\n",
        "  entr_val1 = entr_clf1.predict(X_val0)\n",
        "  gini_vsc1 = precision_score(y_val0, gini_val1, average = 'weighted')\n",
        "  gini_rcl1 = recall_score(y_val0, gini_val1, average = 'weighted')\n",
        "  gini_f11 = f1_score(y_val0, gini_val1, average = 'weighted')\n",
        "  if gini_vsc1>best_val1:\n",
        "    best_val1=gini_vsc1\n",
        "    best_model1=gini_clf1\n",
        "  entr_vsc1 = precision_score(y_val0, entr_val1, average = 'weighted')\n",
        "  g_rcl1 = recall_score(y_val0, entr_val1, average = 'weighted')\n",
        "  g_f11 = f1_score(y_val0, entr_val1, average = 'weighted')\n",
        "  if entr_vsc1>best_val1:\n",
        "    best_val1=entr_vsc1\n",
        "    best_model1=entr_clf1\n",
        "  gien_list1=gien_list1+[[gini_vsc1,gini_rcl1,gini_f11,entr_vsc1,g_rcl1,g_f11]]\n",
        "gien = pd.DataFrame(gien_list1)\n",
        "gien.set_axis(['gini precision','gini recall','gini f1', 'entropy precision','entropy recall','entropy f1'], axis='columns', inplace=True)\n",
        "gien.set_axis([6,7,8,9,10,11,12,13], axis='rows', inplace=True)"
      ],
      "metadata": {
        "id": "Ml2giltrENM4"
      },
      "execution_count": 100,
      "outputs": []
    },
    {
      "cell_type": "code",
      "source": [
        "sns.heatmap(gien,annot=True,fmt='.3f',cmap='RdYlGn')\n",
        "plt.figure(figsize=(16,6)) "
      ],
      "metadata": {
        "colab": {
          "base_uri": "https://localhost:8080/",
          "height": 377
        },
        "id": "t_1Me5ucRfke",
        "outputId": "70bdc767-a714-4474-9049-d16e09659dd9"
      },
      "execution_count": 101,
      "outputs": [
        {
          "output_type": "execute_result",
          "data": {
            "text/plain": [
              "<Figure size 1152x432 with 0 Axes>"
            ]
          },
          "metadata": {},
          "execution_count": 101
        },
        {
          "output_type": "display_data",
          "data": {
            "text/plain": [
              "<Figure size 432x288 with 2 Axes>"
            ],
            "image/png": "[encoded data removed]"
          },
          "metadata": {
            "needs_background": "light"
          }
        },
        {
          "output_type": "display_data",
          "data": {
            "text/plain": [
              "<Figure size 1152x432 with 0 Axes>"
            ]
          },
          "metadata": {}
        }
      ]
    },
    {
      "cell_type": "code",
      "source": [
        "best_model1.get_depth()"
      ],
      "metadata": {
        "colab": {
          "base_uri": "https://localhost:8080/"
        },
        "id": "IzH500HCKfgK",
        "outputId": "a149d787-5694-4da9-89ab-07fd17415abf"
      },
      "execution_count": 102,
      "outputs": [
        {
          "output_type": "execute_result",
          "data": {
            "text/plain": [
              "8"
            ]
          },
          "metadata": {},
          "execution_count": 102
        }
      ]
    },
    {
      "cell_type": "code",
      "source": [
        "from sklearn import tree\n",
        "import graphviz\n",
        "dot_data=tree.export_graphviz(best_model1)\n",
        "graph = graphviz.Source(dot_data, format=\"png\") \n",
        "graph.render(directory='/content/drive/MyDrive/')"
      ],
      "metadata": {
        "colab": {
          "base_uri": "https://localhost:8080/",
          "height": 35
        },
        "id": "qz5pRajMWot6",
        "outputId": "17ee038b-6dad-4ecb-cd3a-466c2f0e86e4"
      },
      "execution_count": 77,
      "outputs": [
        {
          "output_type": "execute_result",
          "data": {
            "text/plain": [
              "'/content/drive/MyDrive/Source.gv.png'"
            ],
            "application/vnd.google.colaboratory.intrinsic+json": {
              "type": "string"
            }
          },
          "metadata": {},
          "execution_count": 77
        }
      ]
    },
    {
      "cell_type": "code",
      "source": [
        "from sklearn.metrics import confusion_matrix\n",
        "confusion_matrix(y_val0, best_model1.predict(X_val0))\n"
      ],
      "metadata": {
        "colab": {
          "base_uri": "https://localhost:8080/"
        },
        "id": "MpfOjZXQAmrI",
        "outputId": "f24b4384-36dd-48de-acf3-ccee6c08bcc1"
      },
      "execution_count": 104,
      "outputs": [
        {
          "output_type": "execute_result",
          "data": {
            "text/plain": [
              "array([[15664,   826],\n",
              "       [ 2746,  2086]])"
            ]
          },
          "metadata": {},
          "execution_count": 104
        }
      ]
    },
    {
      "cell_type": "markdown",
      "source": [
        "#Random Forests"
      ],
      "metadata": {
        "id": "Qjmf3c6zENcg"
      }
    },
    {
      "cell_type": "code",
      "source": [
        "perks=[]\n",
        "recs=[]\n",
        "for kkkk in range(5):\n",
        "  trees=[]\n",
        "  predictions=[]\n",
        "  for i in range(100):\n",
        "    temp_clf = DecisionTreeClassifier(max_depth=3+kkkk,random_state=0)\n",
        "    temp_fea=(np.random.choice(range(16),8,replace=False))\n",
        "    X_temp=pd.DataFrame(X_train)\n",
        "    X_temp.set_axis(range(16), axis='columns', inplace=True)\n",
        "    tempX=np.array(X_temp.drop(temp_fea, axis = 1),dtype=int)\n",
        "    temp_X,discard_X,temp_y,discard_y = train_test_split(tempX,y_train,test_size=0.5)\n",
        "    temp_clf = temp_clf.fit(temp_X,temp_y)\n",
        "    val_temp=pd.DataFrame(X_val)\n",
        "    val_temp.set_axis(range(16), axis='columns', inplace=True)\n",
        "    tempval=np.array(val_temp.drop(temp_fea, axis = 1),dtype=int)\n",
        "    y_pred=temp_clf.predict(tempval)\n",
        "    predictions=predictions+[y_pred]\n",
        "  val_pred=np.zeros(y_val.shape,dtype=float)\n",
        "  predss=[]\n",
        "  for i in range(100):\n",
        "    # print(precision_score(y_val, predictions[i], average = 'weighted'))\n",
        "    predss=predss+[precision_score(y_val, predictions[i], average = 'weighted')]\n",
        "    for j in range(y_val.shape[0]):\n",
        "      val_pred[j]+=(predictions[i][j]/100)\n",
        "  val_pred=np.round(val_pred)\n",
        "  perks.append(precision_score(y_val, val_pred, average = 'weighted'))\n",
        "  recs.append(recall_score(y_val, val_pred, average = 'weighted'))\n",
        "  pss = np.array(predss)\n",
        "  pss = pd.DataFrame(pss)\n",
        "  pss.describe()\n",
        "sns.lineplot(x = np.arange(3,8), y = perks,label='Precision')\n",
        "sns.lineplot(x = np.arange(3,8), y = recs,label='Recall')\n",
        "print(perks[-1])\n",
        "print(recs[-1])"
      ],
      "metadata": {
        "colab": {
          "base_uri": "https://localhost:8080/",
          "height": 300
        },
        "id": "2BTLD5RSEP3a",
        "outputId": "d086429a-4745-423d-8637-d413b6f285fc"
      },
      "execution_count": 118,
      "outputs": [
        {
          "output_type": "stream",
          "name": "stdout",
          "text": [
            "0.8158041175060792\n",
            "0.8240315167432699\n"
          ]
        },
        {
          "output_type": "display_data",
          "data": {
            "text/plain": [
              "<Figure size 432x288 with 1 Axes>"
            ],
            "image/png": "[encoded data removed]"
          },
          "metadata": {
            "needs_background": "light"
          }
        }
      ]
    },
    {
      "cell_type": "code",
      "source": [
        "perks=[]\n",
        "recs=[]\n",
        "for kkkk in range(5):\n",
        "  trees=[]\n",
        "  predictions=[]\n",
        "  for i in range(100):\n",
        "    temp_clf = DecisionTreeClassifier(max_depth=3+kkkk,random_state=0)\n",
        "    temp_fea=(np.random.choice(range(10),8,replace=False))\n",
        "    X_temp=pd.DataFrame(X_train0)\n",
        "    X_temp.set_axis(range(10), axis='columns', inplace=True)\n",
        "    tempX=np.array(X_temp.drop(temp_fea, axis = 1),dtype=int)\n",
        "    temp_X,discard_X,temp_y,discard_y = train_test_split(tempX,y_train0,test_size=0.5)\n",
        "    temp_clf = temp_clf.fit(temp_X,temp_y)\n",
        "    val_temp=pd.DataFrame(X_val0)\n",
        "    val_temp.set_axis(range(10), axis='columns', inplace=True)\n",
        "    tempval=np.array(val_temp.drop(temp_fea, axis = 1),dtype=int)\n",
        "    y_pred=temp_clf.predict(tempval)\n",
        "    predictions=predictions+[y_pred]\n",
        "  val_pred=np.zeros(y_val0.shape,dtype=float)\n",
        "  predss=[]\n",
        "  for i in range(100):\n",
        "    # print(precision_score(y_val, predictions[i], average = 'weighted'))\n",
        "    predss=predss+[precision_score(y_val0, predictions[i], average = 'weighted')]\n",
        "    for j in range(y_val0.shape[0]):\n",
        "      val_pred[j]+=(predictions[i][j]/100)\n",
        "  val_pred=np.round(val_pred)\n",
        "  perks.append(precision_score(y_val0, val_pred, average = 'weighted'))\n",
        "  recs.append(recall_score(y_val0, val_pred, average = 'weighted'))\n",
        "  pss = np.array(predss)\n",
        "  pss = pd.DataFrame(pss)\n",
        "  pss.describe()\n",
        "sns.lineplot(x = np.arange(3,8), y = perks,label='Precision')\n",
        "sns.lineplot(x = np.arange(3,8), y = recs,label='Recall')\n",
        "print(perks[-1])\n",
        "print(recs[-1])"
      ],
      "metadata": {
        "id": "aJtcIaTCVA2m",
        "colab": {
          "base_uri": "https://localhost:8080/",
          "height": 424
        },
        "outputId": "24bf9aa6-4cf0-428f-c872-90bca2a9146a"
      },
      "execution_count": 122,
      "outputs": [
        {
          "output_type": "stream",
          "name": "stderr",
          "text": [
            "/usr/local/lib/python3.8/dist-packages/sklearn/metrics/_classification.py:1318: UndefinedMetricWarning: Precision is ill-defined and being set to 0.0 in labels with no predicted samples. Use `zero_division` parameter to control this behavior.\n",
            "  _warn_prf(average, modifier, msg_start, len(result))\n",
            "/usr/local/lib/python3.8/dist-packages/sklearn/metrics/_classification.py:1318: UndefinedMetricWarning: Precision is ill-defined and being set to 0.0 in labels with no predicted samples. Use `zero_division` parameter to control this behavior.\n",
            "  _warn_prf(average, modifier, msg_start, len(result))\n",
            "/usr/local/lib/python3.8/dist-packages/sklearn/metrics/_classification.py:1318: UndefinedMetricWarning: Precision is ill-defined and being set to 0.0 in labels with no predicted samples. Use `zero_division` parameter to control this behavior.\n",
            "  _warn_prf(average, modifier, msg_start, len(result))\n"
          ]
        },
        {
          "output_type": "stream",
          "name": "stdout",
          "text": [
            "0.803634069238353\n",
            "0.7749273051308507\n"
          ]
        },
        {
          "output_type": "display_data",
          "data": {
            "text/plain": [
              "<Figure size 432x288 with 1 Axes>"
            ],
            "image/png": "[encoded data removed]"
          },
          "metadata": {
            "needs_background": "light"
          }
        }
      ]
    },
    {
      "cell_type": "code",
      "source": [
        "perks=[]\n",
        "recs=[]\n",
        "for kkkk in range(5):\n",
        "  trees=[]\n",
        "  predictions=[]\n",
        "  for i in range(100):\n",
        "    temp_clf = DecisionTreeClassifier(max_depth=3+kkkk,random_state=0)\n",
        "    temp_fea=(np.random.choice(range(10),8,replace=False))\n",
        "    X_temp=pd.DataFrame(X_train1)\n",
        "    X_temp.set_axis(range(10), axis='columns', inplace=True)\n",
        "    tempX=np.array(X_temp.drop(temp_fea, axis = 1),dtype=int)\n",
        "    temp_X,discard_X,temp_y,discard_y = train_test_split(tempX,y_train1,test_size=0.5)\n",
        "    temp_clf = temp_clf.fit(temp_X,temp_y)\n",
        "    val_temp=pd.DataFrame(X_val1)\n",
        "    val_temp.set_axis(range(10), axis='columns', inplace=True)\n",
        "    tempval=np.array(val_temp.drop(temp_fea, axis = 1),dtype=int)\n",
        "    y_pred=temp_clf.predict(tempval)\n",
        "    predictions=predictions+[y_pred]\n",
        "  val_pred=np.zeros(y_val1.shape,dtype=float)\n",
        "  predss=[]\n",
        "  for i in range(100):\n",
        "    # print(precision_score(y_val, predictions[i], average = 'weighted'))\n",
        "    predss=predss+[precision_score(y_val1, predictions[i], average = 'weighted')]\n",
        "    for j in range(y_val1.shape[0]):\n",
        "      val_pred[j]+=(predictions[i][j]/100)\n",
        "  val_pred=np.round(val_pred)\n",
        "  perks.append(precision_score(y_val1, val_pred, average = 'weighted'))\n",
        "  recs.append(recall_score(y_val1, val_pred, average = 'weighted'))\n",
        "  pss = np.array(predss)\n",
        "  pss = pd.DataFrame(pss)\n",
        "  pss.describe()\n",
        "sns.lineplot(x = np.arange(3,8), y = perks,label='Precision')\n",
        "sns.lineplot(x = np.arange(3,8), y = recs,label='Recall')\n",
        "print(perks[-1])\n",
        "print(recs[-1])"
      ],
      "metadata": {
        "id": "k9-UMtz18npZ",
        "colab": {
          "base_uri": "https://localhost:8080/",
          "height": 300
        },
        "outputId": "ea8d3e0d-11b4-40ca-b6af-fe71ea425c0a"
      },
      "execution_count": 124,
      "outputs": [
        {
          "output_type": "stream",
          "name": "stdout",
          "text": [
            "0.6168373071324315\n",
            "0.5070886611650192\n"
          ]
        },
        {
          "output_type": "display_data",
          "data": {
            "text/plain": [
              "<Figure size 432x288 with 1 Axes>"
            ],
            "image/png": "[encoded data removed]"
          },
          "metadata": {
            "needs_background": "light"
          }
        }
      ]
    },
    {
      "cell_type": "code",
      "source": [
        "perks=[]\n",
        "recs=[]\n",
        "for kkkk in range(5):\n",
        "  trees=[]\n",
        "  predictions=[]\n",
        "  for i in range(100):\n",
        "    temp_clf = DecisionTreeClassifier(max_depth=3+kkkk,random_state=0)\n",
        "    temp_fea=(np.random.choice(range(16),8,replace=False))\n",
        "    X_temp=pd.DataFrame(X_train2)\n",
        "    X_temp.set_axis(range(16), axis='columns', inplace=True)\n",
        "    tempX=np.array(X_temp.drop(temp_fea, axis = 1),dtype=int)\n",
        "    temp_X,discard_X,temp_y,discard_y = train_test_split(tempX,y_train2,test_size=0.5)\n",
        "    temp_clf = temp_clf.fit(temp_X,temp_y)\n",
        "    val_temp=pd.DataFrame(X_val2)\n",
        "    val_temp.set_axis(range(16), axis='columns', inplace=True)\n",
        "    tempval=np.array(val_temp.drop(temp_fea, axis = 1),dtype=int)\n",
        "    y_pred=temp_clf.predict(tempval)\n",
        "    predictions=predictions+[y_pred]\n",
        "  val_pred=np.zeros(y_val1.shape,dtype=float)\n",
        "  predss=[]\n",
        "  for i in range(100):\n",
        "    # print(precision_score(y_val, predictions[i], average = 'weighted'))\n",
        "    predss=predss+[precision_score(y_val2, predictions[i], average = 'weighted')]\n",
        "    for j in range(y_val2.shape[0]):\n",
        "      val_pred[j]+=(predictions[i][j]/100)\n",
        "  val_pred=np.round(val_pred)\n",
        "  perks.append(precision_score(y_val2, val_pred, average = 'weighted'))\n",
        "  recs.append(recall_score(y_val2, val_pred, average = 'weighted'))\n",
        "  pss = np.array(predss)\n",
        "  pss = pd.DataFrame(pss)\n",
        "  pss.describe()\n",
        "sns.lineplot(x = np.arange(3,8), y = perks,label='Precision')\n",
        "sns.lineplot(x = np.arange(3,8), y = recs,label='Recall')\n",
        "print(perks[-1])\n",
        "print(recs[-1])"
      ],
      "metadata": {
        "colab": {
          "base_uri": "https://localhost:8080/",
          "height": 910
        },
        "id": "SkHVovHuMlyN",
        "outputId": "9da2cb1b-382c-4697-ea4a-9328e136a4d5"
      },
      "execution_count": 126,
      "outputs": [
        {
          "output_type": "stream",
          "name": "stderr",
          "text": [
            "/usr/local/lib/python3.8/dist-packages/sklearn/metrics/_classification.py:1318: UndefinedMetricWarning: Precision is ill-defined and being set to 0.0 in labels with no predicted samples. Use `zero_division` parameter to control this behavior.\n",
            "  _warn_prf(average, modifier, msg_start, len(result))\n",
            "/usr/local/lib/python3.8/dist-packages/sklearn/metrics/_classification.py:1318: UndefinedMetricWarning: Precision is ill-defined and being set to 0.0 in labels with no predicted samples. Use `zero_division` parameter to control this behavior.\n",
            "  _warn_prf(average, modifier, msg_start, len(result))\n",
            "/usr/local/lib/python3.8/dist-packages/sklearn/metrics/_classification.py:1318: UndefinedMetricWarning: Precision is ill-defined and being set to 0.0 in labels with no predicted samples. Use `zero_division` parameter to control this behavior.\n",
            "  _warn_prf(average, modifier, msg_start, len(result))\n",
            "/usr/local/lib/python3.8/dist-packages/sklearn/metrics/_classification.py:1318: UndefinedMetricWarning: Precision is ill-defined and being set to 0.0 in labels with no predicted samples. Use `zero_division` parameter to control this behavior.\n",
            "  _warn_prf(average, modifier, msg_start, len(result))\n",
            "/usr/local/lib/python3.8/dist-packages/sklearn/metrics/_classification.py:1318: UndefinedMetricWarning: Precision is ill-defined and being set to 0.0 in labels with no predicted samples. Use `zero_division` parameter to control this behavior.\n",
            "  _warn_prf(average, modifier, msg_start, len(result))\n",
            "/usr/local/lib/python3.8/dist-packages/sklearn/metrics/_classification.py:1318: UndefinedMetricWarning: Precision is ill-defined and being set to 0.0 in labels with no predicted samples. Use `zero_division` parameter to control this behavior.\n",
            "  _warn_prf(average, modifier, msg_start, len(result))\n",
            "/usr/local/lib/python3.8/dist-packages/sklearn/metrics/_classification.py:1318: UndefinedMetricWarning: Precision is ill-defined and being set to 0.0 in labels with no predicted samples. Use `zero_division` parameter to control this behavior.\n",
            "  _warn_prf(average, modifier, msg_start, len(result))\n",
            "/usr/local/lib/python3.8/dist-packages/sklearn/metrics/_classification.py:1318: UndefinedMetricWarning: Precision is ill-defined and being set to 0.0 in labels with no predicted samples. Use `zero_division` parameter to control this behavior.\n",
            "  _warn_prf(average, modifier, msg_start, len(result))\n",
            "/usr/local/lib/python3.8/dist-packages/sklearn/metrics/_classification.py:1318: UndefinedMetricWarning: Precision is ill-defined and being set to 0.0 in labels with no predicted samples. Use `zero_division` parameter to control this behavior.\n",
            "  _warn_prf(average, modifier, msg_start, len(result))\n",
            "/usr/local/lib/python3.8/dist-packages/sklearn/metrics/_classification.py:1318: UndefinedMetricWarning: Precision is ill-defined and being set to 0.0 in labels with no predicted samples. Use `zero_division` parameter to control this behavior.\n",
            "  _warn_prf(average, modifier, msg_start, len(result))\n",
            "/usr/local/lib/python3.8/dist-packages/sklearn/metrics/_classification.py:1318: UndefinedMetricWarning: Precision is ill-defined and being set to 0.0 in labels with no predicted samples. Use `zero_division` parameter to control this behavior.\n",
            "  _warn_prf(average, modifier, msg_start, len(result))\n",
            "/usr/local/lib/python3.8/dist-packages/sklearn/metrics/_classification.py:1318: UndefinedMetricWarning: Precision is ill-defined and being set to 0.0 in labels with no predicted samples. Use `zero_division` parameter to control this behavior.\n",
            "  _warn_prf(average, modifier, msg_start, len(result))\n",
            "/usr/local/lib/python3.8/dist-packages/sklearn/metrics/_classification.py:1318: UndefinedMetricWarning: Precision is ill-defined and being set to 0.0 in labels with no predicted samples. Use `zero_division` parameter to control this behavior.\n",
            "  _warn_prf(average, modifier, msg_start, len(result))\n",
            "/usr/local/lib/python3.8/dist-packages/sklearn/metrics/_classification.py:1318: UndefinedMetricWarning: Precision is ill-defined and being set to 0.0 in labels with no predicted samples. Use `zero_division` parameter to control this behavior.\n",
            "  _warn_prf(average, modifier, msg_start, len(result))\n",
            "/usr/local/lib/python3.8/dist-packages/sklearn/metrics/_classification.py:1318: UndefinedMetricWarning: Precision is ill-defined and being set to 0.0 in labels with no predicted samples. Use `zero_division` parameter to control this behavior.\n",
            "  _warn_prf(average, modifier, msg_start, len(result))\n",
            "/usr/local/lib/python3.8/dist-packages/sklearn/metrics/_classification.py:1318: UndefinedMetricWarning: Precision is ill-defined and being set to 0.0 in labels with no predicted samples. Use `zero_division` parameter to control this behavior.\n",
            "  _warn_prf(average, modifier, msg_start, len(result))\n",
            "/usr/local/lib/python3.8/dist-packages/sklearn/metrics/_classification.py:1318: UndefinedMetricWarning: Precision is ill-defined and being set to 0.0 in labels with no predicted samples. Use `zero_division` parameter to control this behavior.\n",
            "  _warn_prf(average, modifier, msg_start, len(result))\n"
          ]
        },
        {
          "output_type": "stream",
          "name": "stdout",
          "text": [
            "0.5567033249714718\n",
            "0.5500136029745171\n"
          ]
        },
        {
          "output_type": "display_data",
          "data": {
            "text/plain": [
              "<Figure size 432x288 with 1 Axes>"
            ],
            "image/png": "[encoded data removed]"
          },
          "metadata": {
            "needs_background": "light"
          }
        }
      ]
    },
    {
      "cell_type": "markdown",
      "source": [
        "#ADABoost"
      ],
      "metadata": {
        "id": "57mIz_uCEQLv"
      }
    },
    {
      "cell_type": "code",
      "source": [
        "from sklearn.ensemble import AdaBoostClassifier\n",
        "dt = DecisionTreeClassifier(max_depth=8,criterion='gini',random_state=0)\n",
        "lst=[]\n",
        "mdepth=[5,6,7,8,9,10,11,12]\n",
        "for i in range(20):\n",
        "  ada = AdaBoostClassifier(base_estimator=dt,n_estimators=mdepth[i])\n",
        "  ada.fit(X_train,y_train)\n",
        "  y_vp = ada.predict(X_val)\n",
        "  vsc = precision_score(y_val, y_vp, average = 'weighted') \n",
        "  rcl = recall_score(y_val, y_vp, average = 'weighted')\n",
        "  f1 = f1_score(y_val, y_vp, average = 'weighted')\n",
        "  lst=lst+[[vsc,rcl,f1]]\n",
        "lst=pd.DataFrame(lst)\n",
        "lst.set_axis([ 'precision','recall','f1'], axis='columns', inplace=True)\n",
        "lst.set_axis([5,6,7,8,9,10,11,12], axis='rows', inplace=True)"
      ],
      "metadata": {
        "id": "R-d2z6wIER65"
      },
      "execution_count": 127,
      "outputs": []
    },
    {
      "cell_type": "code",
      "source": [
        "sns.heatmap(lst,annot=True,fmt='.3f',cmap='RdYlGn')\n",
        "\n",
        "plt.figure(figsize=(16,6)) "
      ],
      "metadata": {
        "colab": {
          "base_uri": "https://localhost:8080/",
          "height": 200
        },
        "id": "zK09IilX3bsD",
        "outputId": "2a1da0dd-6da8-4cc1-e24f-65152038d559"
      },
      "execution_count": 99,
      "outputs": [
        {
          "output_type": "error",
          "ename": "NameError",
          "evalue": "ignored",
          "traceback": [
            "\u001b[0;31m---------------------------------------------------------------------------\u001b[0m",
            "\u001b[0;31mNameError\u001b[0m                                 Traceback (most recent call last)",
            "\u001b[0;32m<ipython-input-99-f36859bb0509>\u001b[0m in \u001b[0;36m<module>\u001b[0;34m\u001b[0m\n\u001b[0;32m----> 1\u001b[0;31m \u001b[0msns\u001b[0m\u001b[0;34m.\u001b[0m\u001b[0mheatmap\u001b[0m\u001b[0;34m(\u001b[0m\u001b[0mlst\u001b[0m\u001b[0;34m,\u001b[0m\u001b[0mannot\u001b[0m\u001b[0;34m=\u001b[0m\u001b[0;32mTrue\u001b[0m\u001b[0;34m,\u001b[0m\u001b[0mfmt\u001b[0m\u001b[0;34m=\u001b[0m\u001b[0;34m'.3f'\u001b[0m\u001b[0;34m,\u001b[0m\u001b[0mcmap\u001b[0m\u001b[0;34m=\u001b[0m\u001b[0;34m'RdYlGn'\u001b[0m\u001b[0;34m)\u001b[0m\u001b[0;34m\u001b[0m\u001b[0;34m\u001b[0m\u001b[0m\n\u001b[0m\u001b[1;32m      2\u001b[0m \u001b[0;34m\u001b[0m\u001b[0m\n\u001b[1;32m      3\u001b[0m \u001b[0mplt\u001b[0m\u001b[0;34m.\u001b[0m\u001b[0mfigure\u001b[0m\u001b[0;34m(\u001b[0m\u001b[0mfigsize\u001b[0m\u001b[0;34m=\u001b[0m\u001b[0;34m(\u001b[0m\u001b[0;36m16\u001b[0m\u001b[0;34m,\u001b[0m\u001b[0;36m6\u001b[0m\u001b[0;34m)\u001b[0m\u001b[0;34m)\u001b[0m\u001b[0;34m\u001b[0m\u001b[0;34m\u001b[0m\u001b[0m\n",
            "\u001b[0;31mNameError\u001b[0m: name 'lst' is not defined"
          ]
        }
      ]
    },
    {
      "cell_type": "markdown",
      "source": [
        "# xGBoost\n"
      ],
      "metadata": {
        "id": "fXXaxz8wULcY"
      }
    },
    {
      "cell_type": "code",
      "source": [
        "y_train"
      ],
      "metadata": {
        "colab": {
          "base_uri": "https://localhost:8080/"
        },
        "id": "yRxClucwWCLl",
        "outputId": "9a5c1430-b922-4a31-ed56-5e67fe1f3d1a"
      },
      "execution_count": null,
      "outputs": [
        {
          "output_type": "execute_result",
          "data": {
            "text/plain": [
              "array([1, 0, 0, ..., 0, 0, 0])"
            ]
          },
          "metadata": {},
          "execution_count": 25
        }
      ]
    },
    {
      "cell_type": "code",
      "source": [
        "import xgboost as xgb\n",
        "model_xg = xgb.XGBClassifier(objective=\"binary:logistic\")\n",
        "model_xg.fit(X_train,y_train)\n",
        "y_pred = model_xg.predict(X_test)\n",
        "print(confusion_matrix(y_test,y_pred))"
      ],
      "metadata": {
        "colab": {
          "base_uri": "https://localhost:8080/"
        },
        "id": "d3MvVPbOUKu0",
        "outputId": "ff5dea78-003c-4a8b-c773-d6b7d75987bd"
      },
      "execution_count": 25,
      "outputs": [
        {
          "output_type": "stream",
          "name": "stdout",
          "text": [
            "[[15778   791]\n",
            " [ 2437  2315]]\n"
          ]
        }
      ]
    },
    {
      "cell_type": "code",
      "source": [
        "import xgboost as xgb\n",
        "model_xg = xgb.XGBClassifier(objective=\"binary:logistic\")\n",
        "model_xg.fit(np.array(X_train1),y_train1)\n",
        "y_pred1 = model_xg.predict(X_test1)\n",
        "print(confusion_matrix(y_test1,y_pred1))"
      ],
      "metadata": {
        "colab": {
          "base_uri": "https://localhost:8080/"
        },
        "id": "NttM75cqKpjg",
        "outputId": "6a3399c5-4900-4418-8457-993c1de6e38e"
      },
      "execution_count": 27,
      "outputs": [
        {
          "output_type": "stream",
          "name": "stdout",
          "text": [
            "[[10063  6490]\n",
            " [ 4219 12309]]\n"
          ]
        }
      ]
    },
    {
      "cell_type": "code",
      "source": [
        "import xgboost as xgb\n",
        "model_xg = xgb.XGBClassifier(objective=\"binary:logistic\")\n",
        "model_xg.fit(np.array(X_train0),y_train0)\n",
        "y_pred0 = model_xg.predict(X_test0)\n",
        "print(confusion_matrix(y_test0,y_pred0))"
      ],
      "metadata": {
        "colab": {
          "base_uri": "https://localhost:8080/"
        },
        "id": "ZkG1HMP8TsdC",
        "outputId": "4d9dacb1-74b0-4265-c1b0-e02463b94cb1"
      },
      "execution_count": 105,
      "outputs": [
        {
          "output_type": "stream",
          "name": "stdout",
          "text": [
            "[[15767   802]\n",
            " [ 2495  2257]]\n"
          ]
        }
      ]
    },
    {
      "cell_type": "markdown",
      "source": [
        "#K Nearest?"
      ],
      "metadata": {
        "id": "-Kn-AsYzEjT3"
      }
    },
    {
      "cell_type": "code",
      "source": [
        "from sklearn.neighbors import KNeighborsClassifier"
      ],
      "metadata": {
        "id": "iQNTKqhVEiQg"
      },
      "execution_count": 22,
      "outputs": []
    },
    {
      "cell_type": "code",
      "source": [
        "for i in range(1,10):\n",
        "  model=KNeighborsClassifier(i)\n",
        "  model.fit(X_train,y_train)\n",
        "  y_pred=model.predict(X_test)\n",
        "  print(i,precision_score(y_test,y_pred))\n",
        "  print(i,recall_score(y_test,y_pred))\n",
        "  print(i,accuracy_score(y_test,y_pred))"
      ],
      "metadata": {
        "colab": {
          "base_uri": "https://localhost:8080/"
        },
        "id": "eKzux_i6-lHg",
        "outputId": "51e1c90e-2f4a-4b8d-e466-3389da1e40bd"
      },
      "execution_count": 23,
      "outputs": [
        {
          "output_type": "stream",
          "name": "stdout",
          "text": [
            "1 0.5506568692941438\n",
            "1 0.5204124579124579\n",
            "1 0.7984616106186389\n",
            "2 0.7170231729055259\n",
            "2 0.3385942760942761\n",
            "2 0.8228038084517612\n",
            "3 0.6436441816715937\n",
            "3 0.5039983164983165\n",
            "3 0.8272595094038742\n",
            "4 0.7441860465116279\n",
            "4 0.40404040404040403\n",
            "4 0.8362178134233854\n",
            "5 0.684286124676817\n",
            "5 0.5012626262626263\n",
            "5 0.8372965620749496\n",
            "6 0.745031871016123\n",
            "6 0.41813973063973064\n",
            "6 0.8384222128417992\n",
            "7 0.7043609022556391\n",
            "7 0.49284511784511786\n",
            "7 0.8408611228366399\n",
            "8 0.7567964731814842\n",
            "8 0.4335016835016835\n",
            "8 0.8426903053327706\n",
            "9 0.7263853904282116\n",
            "9 0.48547979797979796\n",
            "9 0.8445663899441865\n"
          ]
        }
      ]
    },
    {
      "cell_type": "code",
      "source": [
        "for i in range(1,10):\n",
        "  model=KNeighborsClassifier(i)\n",
        "  model.fit(X_train1,y_train1)\n",
        "  y_pred1=model.predict(X_test1)\n",
        "  print(i,precision_score(y_test1,y_pred1))\n",
        "  print(i,recall_score(y_test1,y_pred1))\n",
        "  print(i,accuracy_score(y_test1,y_pred1))"
      ],
      "metadata": {
        "colab": {
          "base_uri": "https://localhost:8080/"
        },
        "id": "GI7vYdsDJ1lq",
        "outputId": "d471c9f1-11a1-4642-b7e1-e31ab2daa519"
      },
      "execution_count": 24,
      "outputs": [
        {
          "output_type": "stream",
          "name": "stdout",
          "text": [
            "1 0.6269643541586815\n",
            "1 0.7917473378509197\n",
            "1 0.6605906713823645\n",
            "2 0.6364682917062916\n",
            "2 0.7693610842207164\n",
            "2 0.6652156827181765\n",
            "3 0.6121341593676565\n",
            "3 0.8668320425943853\n",
            "3 0.6590490009370938\n",
            "4 0.6312505692686037\n",
            "4 0.8386374636979671\n",
            "4 0.6746168495511018\n",
            "5 0.6117386211512718\n",
            "5 0.8847410454985479\n",
            "5 0.6618602823372933\n",
            "6 0.6281300884566299\n",
            "6 0.8635648596321394\n",
            "6 0.6764003506544543\n",
            "7 0.6138346489405899\n",
            "7 0.8939375605033882\n",
            "7 0.6660318611892022\n",
            "8 0.6263201000043105\n",
            "8 0.8791142303969022\n",
            "8 0.6775490462803422\n",
            "9 0.6146788990825688\n",
            "9 0.9039811229428848\n",
            "9 0.6689036002539221\n"
          ]
        }
      ]
    },
    {
      "cell_type": "code",
      "source": [
        "for i in range(1,10):\n",
        "  model=KNeighborsClassifier(i)\n",
        "  model.fit(X_train0,y_train0)\n",
        "  y_pred0=model.predict(X_test0)\n",
        "  print(i,precision_score(y_test0,y_pred0))\n",
        "  print(i,recall_score(y_test0,y_pred0))\n",
        "  print(i,accuracy_score(y_test0,y_pred0))"
      ],
      "metadata": {
        "colab": {
          "base_uri": "https://localhost:8080/"
        },
        "id": "T5W791OoT_Lj",
        "outputId": "3558f98e-90dc-4279-cf50-a62a4624d097"
      },
      "execution_count": 106,
      "outputs": [
        {
          "output_type": "stream",
          "name": "stdout",
          "text": [
            "1 0.5296803652968036\n",
            "1 0.4882154882154882\n",
            "1 0.7893156981379861\n",
            "2 0.6923828125\n",
            "2 0.2984006734006734\n",
            "2 0.8140800150086769\n",
            "3 0.6253561253561254\n",
            "3 0.46191077441077444\n",
            "3 0.8183950096149336\n",
            "4 0.7260926006057984\n",
            "4 0.3531144781144781\n",
            "4 0.8261338586370245\n",
            "5 0.6787822305063684\n",
            "5 0.45980639730639733\n",
            "5 0.8311054828572768\n",
            "6 0.7530195751770096\n",
            "6 0.38047138047138046\n",
            "6 0.8341072182355425\n",
            "7 0.7132426153335546\n",
            "7 0.4522306397306397\n",
            "7 0.8373903663055203\n",
            "8 0.7570667759115117\n",
            "8 0.3888888888888889\n",
            "8 0.8359833028469584\n",
            "9 0.7264986376021798\n",
            "9 0.44886363636363635\n",
            "9 0.8395009614933634\n"
          ]
        }
      ]
    },
    {
      "cell_type": "code",
      "source": [
        "print(confusion_matrix(y_test0,y_pred0))"
      ],
      "metadata": {
        "colab": {
          "base_uri": "https://localhost:8080/"
        },
        "id": "DUN_VghiUQqF",
        "outputId": "31a26ab3-cd05-4b61-e8c3-d01caed1af85"
      },
      "execution_count": 107,
      "outputs": [
        {
          "output_type": "stream",
          "name": "stdout",
          "text": [
            "[[15766   803]\n",
            " [ 2619  2133]]\n"
          ]
        }
      ]
    },
    {
      "cell_type": "code",
      "source": [
        "print(confusion_matrix(y_test0,y_pred0))"
      ],
      "metadata": {
        "colab": {
          "base_uri": "https://localhost:8080/"
        },
        "id": "8mKT1ZwY_yrU",
        "outputId": "3065542f-7217-4784-dd02-74773404c4f4"
      },
      "execution_count": 109,
      "outputs": [
        {
          "output_type": "stream",
          "name": "stdout",
          "text": [
            "[[15766   803]\n",
            " [ 2619  2133]]\n"
          ]
        }
      ]
    },
    {
      "cell_type": "code",
      "source": [],
      "metadata": {
        "id": "otCqOuBpUiDU"
      },
      "execution_count": null,
      "outputs": []
    },
    {
      "cell_type": "markdown",
      "source": [
        "#REg"
      ],
      "metadata": {
        "id": "pQkiJSY-sQzr"
      }
    },
    {
      "cell_type": "code",
      "source": [
        "from sklearn.tree import DecisionTreeRegressor\n",
        "from sklearn.linear_model import LinearRegression\n",
        "from sklearn.model_selection import validation_curve\n",
        "from sklearn.ensemble import RandomForestRegressor"
      ],
      "metadata": {
        "id": "_CSfa_gwsTSA"
      },
      "execution_count": 128,
      "outputs": []
    },
    {
      "cell_type": "code",
      "source": [
        "lr = LinearRegression()\n",
        "lr = lr.fit(X_train, y_train)"
      ],
      "metadata": {
        "id": "l00o9jIksdBe"
      },
      "execution_count": 130,
      "outputs": []
    },
    {
      "cell_type": "code",
      "source": [
        "print(lr.score(X_test, y_test))\n",
        "print(lr.score(X_train, y_train))"
      ],
      "metadata": {
        "colab": {
          "base_uri": "https://localhost:8080/"
        },
        "id": "bImz0yLNsdty",
        "outputId": "44e9f825-3b00-48ad-f9fe-4bf05db3592e"
      },
      "execution_count": 133,
      "outputs": [
        {
          "output_type": "stream",
          "name": "stdout",
          "text": [
            "0.2950278245070608\n",
            "0.2917814710829689\n"
          ]
        }
      ]
    },
    {
      "cell_type": "code",
      "source": [
        "lr = DecisionTreeRegressor()\n",
        "train_scores, test_scores = validation_curve(lr, X_train, y_train, param_name = 'max_depth', param_range=np.arange(1,11), cv=3, verbose = 1, scoring = 'r2' )\n",
        "plt.imshow(train_scores, test_scores)"
      ],
      "metadata": {
        "colab": {
          "base_uri": "https://localhost:8080/",
          "height": 927
        },
        "id": "uUgfrYrysjVT",
        "outputId": "b35069b0-a596-4696-a6e3-aadb345e0d49"
      },
      "execution_count": 140,
      "outputs": [
        {
          "output_type": "stream",
          "name": "stderr",
          "text": [
            "[Parallel(n_jobs=1)]: Using backend SequentialBackend with 1 concurrent workers.\n",
            "[Parallel(n_jobs=1)]: Done  30 out of  30 | elapsed:   13.0s finished\n",
            "/usr/local/lib/python3.8/dist-packages/matplotlib/cbook/__init__.py:2142: FutureWarning: elementwise comparison failed; returning scalar instead, but in the future will perform elementwise comparison\n",
            "  if v not in values:\n"
          ]
        },
        {
          "output_type": "error",
          "ename": "ValueError",
          "evalue": "ignored",
          "traceback": [
            "\u001b[0;31m---------------------------------------------------------------------------\u001b[0m",
            "\u001b[0;31mValueError\u001b[0m                                Traceback (most recent call last)",
            "\u001b[0;32m<ipython-input-140-606ba9960931>\u001b[0m in \u001b[0;36m<module>\u001b[0;34m\u001b[0m\n\u001b[1;32m      1\u001b[0m \u001b[0mlr\u001b[0m \u001b[0;34m=\u001b[0m \u001b[0mDecisionTreeRegressor\u001b[0m\u001b[0;34m(\u001b[0m\u001b[0;34m)\u001b[0m\u001b[0;34m\u001b[0m\u001b[0;34m\u001b[0m\u001b[0m\n\u001b[1;32m      2\u001b[0m \u001b[0mtrain_scores\u001b[0m\u001b[0;34m,\u001b[0m \u001b[0mtest_scores\u001b[0m \u001b[0;34m=\u001b[0m \u001b[0mvalidation_curve\u001b[0m\u001b[0;34m(\u001b[0m\u001b[0mlr\u001b[0m\u001b[0;34m,\u001b[0m \u001b[0mX_train\u001b[0m\u001b[0;34m,\u001b[0m \u001b[0my_train\u001b[0m\u001b[0;34m,\u001b[0m \u001b[0mparam_name\u001b[0m \u001b[0;34m=\u001b[0m \u001b[0;34m'max_depth'\u001b[0m\u001b[0;34m,\u001b[0m \u001b[0mparam_range\u001b[0m\u001b[0;34m=\u001b[0m\u001b[0mnp\u001b[0m\u001b[0;34m.\u001b[0m\u001b[0marange\u001b[0m\u001b[0;34m(\u001b[0m\u001b[0;36m1\u001b[0m\u001b[0;34m,\u001b[0m\u001b[0;36m11\u001b[0m\u001b[0;34m)\u001b[0m\u001b[0;34m,\u001b[0m \u001b[0mcv\u001b[0m\u001b[0;34m=\u001b[0m\u001b[0;36m3\u001b[0m\u001b[0;34m,\u001b[0m \u001b[0mverbose\u001b[0m \u001b[0;34m=\u001b[0m \u001b[0;36m1\u001b[0m\u001b[0;34m,\u001b[0m \u001b[0mscoring\u001b[0m \u001b[0;34m=\u001b[0m \u001b[0;34m'r2'\u001b[0m \u001b[0;34m)\u001b[0m\u001b[0;34m\u001b[0m\u001b[0;34m\u001b[0m\u001b[0m\n\u001b[0;32m----> 3\u001b[0;31m \u001b[0mplt\u001b[0m\u001b[0;34m.\u001b[0m\u001b[0mimshow\u001b[0m\u001b[0;34m(\u001b[0m\u001b[0mtrain_scores\u001b[0m\u001b[0;34m,\u001b[0m \u001b[0mtest_scores\u001b[0m\u001b[0;34m)\u001b[0m\u001b[0;34m\u001b[0m\u001b[0;34m\u001b[0m\u001b[0m\n\u001b[0m",
            "\u001b[0;32m/usr/local/lib/python3.8/dist-packages/matplotlib/pyplot.py\u001b[0m in \u001b[0;36mimshow\u001b[0;34m(X, cmap, norm, aspect, interpolation, alpha, vmin, vmax, origin, extent, shape, filternorm, filterrad, imlim, resample, url, data, **kwargs)\u001b[0m\n\u001b[1;32m   2643\u001b[0m         \u001b[0mfilterrad\u001b[0m\u001b[0;34m=\u001b[0m\u001b[0;36m4.0\u001b[0m\u001b[0;34m,\u001b[0m \u001b[0mimlim\u001b[0m\u001b[0;34m=\u001b[0m\u001b[0mcbook\u001b[0m\u001b[0;34m.\u001b[0m\u001b[0mdeprecation\u001b[0m\u001b[0;34m.\u001b[0m\u001b[0m_deprecated_parameter\u001b[0m\u001b[0;34m,\u001b[0m\u001b[0;34m\u001b[0m\u001b[0;34m\u001b[0m\u001b[0m\n\u001b[1;32m   2644\u001b[0m         resample=None, url=None, *, data=None, **kwargs):\n\u001b[0;32m-> 2645\u001b[0;31m     __ret = gca().imshow(\n\u001b[0m\u001b[1;32m   2646\u001b[0m         \u001b[0mX\u001b[0m\u001b[0;34m,\u001b[0m \u001b[0mcmap\u001b[0m\u001b[0;34m=\u001b[0m\u001b[0mcmap\u001b[0m\u001b[0;34m,\u001b[0m \u001b[0mnorm\u001b[0m\u001b[0;34m=\u001b[0m\u001b[0mnorm\u001b[0m\u001b[0;34m,\u001b[0m \u001b[0maspect\u001b[0m\u001b[0;34m=\u001b[0m\u001b[0maspect\u001b[0m\u001b[0;34m,\u001b[0m\u001b[0;34m\u001b[0m\u001b[0;34m\u001b[0m\u001b[0m\n\u001b[1;32m   2647\u001b[0m         \u001b[0minterpolation\u001b[0m\u001b[0;34m=\u001b[0m\u001b[0minterpolation\u001b[0m\u001b[0;34m,\u001b[0m \u001b[0malpha\u001b[0m\u001b[0;34m=\u001b[0m\u001b[0malpha\u001b[0m\u001b[0;34m,\u001b[0m \u001b[0mvmin\u001b[0m\u001b[0;34m=\u001b[0m\u001b[0mvmin\u001b[0m\u001b[0;34m,\u001b[0m\u001b[0;34m\u001b[0m\u001b[0;34m\u001b[0m\u001b[0m\n",
            "\u001b[0;32m/usr/local/lib/python3.8/dist-packages/matplotlib/__init__.py\u001b[0m in \u001b[0;36minner\u001b[0;34m(ax, data, *args, **kwargs)\u001b[0m\n\u001b[1;32m   1563\u001b[0m     \u001b[0;32mdef\u001b[0m \u001b[0minner\u001b[0m\u001b[0;34m(\u001b[0m\u001b[0max\u001b[0m\u001b[0;34m,\u001b[0m \u001b[0;34m*\u001b[0m\u001b[0margs\u001b[0m\u001b[0;34m,\u001b[0m \u001b[0mdata\u001b[0m\u001b[0;34m=\u001b[0m\u001b[0;32mNone\u001b[0m\u001b[0;34m,\u001b[0m \u001b[0;34m**\u001b[0m\u001b[0mkwargs\u001b[0m\u001b[0;34m)\u001b[0m\u001b[0;34m:\u001b[0m\u001b[0;34m\u001b[0m\u001b[0;34m\u001b[0m\u001b[0m\n\u001b[1;32m   1564\u001b[0m         \u001b[0;32mif\u001b[0m \u001b[0mdata\u001b[0m \u001b[0;32mis\u001b[0m \u001b[0;32mNone\u001b[0m\u001b[0;34m:\u001b[0m\u001b[0;34m\u001b[0m\u001b[0;34m\u001b[0m\u001b[0m\n\u001b[0;32m-> 1565\u001b[0;31m             \u001b[0;32mreturn\u001b[0m \u001b[0mfunc\u001b[0m\u001b[0;34m(\u001b[0m\u001b[0max\u001b[0m\u001b[0;34m,\u001b[0m \u001b[0;34m*\u001b[0m\u001b[0mmap\u001b[0m\u001b[0;34m(\u001b[0m\u001b[0msanitize_sequence\u001b[0m\u001b[0;34m,\u001b[0m \u001b[0margs\u001b[0m\u001b[0;34m)\u001b[0m\u001b[0;34m,\u001b[0m \u001b[0;34m**\u001b[0m\u001b[0mkwargs\u001b[0m\u001b[0;34m)\u001b[0m\u001b[0;34m\u001b[0m\u001b[0;34m\u001b[0m\u001b[0m\n\u001b[0m\u001b[1;32m   1566\u001b[0m \u001b[0;34m\u001b[0m\u001b[0m\n\u001b[1;32m   1567\u001b[0m         \u001b[0mbound\u001b[0m \u001b[0;34m=\u001b[0m \u001b[0mnew_sig\u001b[0m\u001b[0;34m.\u001b[0m\u001b[0mbind\u001b[0m\u001b[0;34m(\u001b[0m\u001b[0max\u001b[0m\u001b[0;34m,\u001b[0m \u001b[0;34m*\u001b[0m\u001b[0margs\u001b[0m\u001b[0;34m,\u001b[0m \u001b[0;34m**\u001b[0m\u001b[0mkwargs\u001b[0m\u001b[0;34m)\u001b[0m\u001b[0;34m\u001b[0m\u001b[0;34m\u001b[0m\u001b[0m\n",
            "\u001b[0;32m/usr/local/lib/python3.8/dist-packages/matplotlib/cbook/deprecation.py\u001b[0m in \u001b[0;36mwrapper\u001b[0;34m(*args, **kwargs)\u001b[0m\n\u001b[1;32m    356\u001b[0m                 \u001b[0;34mf\"%(removal)s.  If any parameter follows {name!r}, they \"\u001b[0m\u001b[0;34m\u001b[0m\u001b[0;34m\u001b[0m\u001b[0m\n\u001b[1;32m    357\u001b[0m                 f\"should be pass as keyword, not positionally.\")\n\u001b[0;32m--> 358\u001b[0;31m         \u001b[0;32mreturn\u001b[0m \u001b[0mfunc\u001b[0m\u001b[0;34m(\u001b[0m\u001b[0;34m*\u001b[0m\u001b[0margs\u001b[0m\u001b[0;34m,\u001b[0m \u001b[0;34m**\u001b[0m\u001b[0mkwargs\u001b[0m\u001b[0;34m)\u001b[0m\u001b[0;34m\u001b[0m\u001b[0;34m\u001b[0m\u001b[0m\n\u001b[0m\u001b[1;32m    359\u001b[0m \u001b[0;34m\u001b[0m\u001b[0m\n\u001b[1;32m    360\u001b[0m     \u001b[0;32mreturn\u001b[0m \u001b[0mwrapper\u001b[0m\u001b[0;34m\u001b[0m\u001b[0;34m\u001b[0m\u001b[0m\n",
            "\u001b[0;32m/usr/local/lib/python3.8/dist-packages/matplotlib/cbook/deprecation.py\u001b[0m in \u001b[0;36mwrapper\u001b[0;34m(*args, **kwargs)\u001b[0m\n\u001b[1;32m    356\u001b[0m                 \u001b[0;34mf\"%(removal)s.  If any parameter follows {name!r}, they \"\u001b[0m\u001b[0;34m\u001b[0m\u001b[0;34m\u001b[0m\u001b[0m\n\u001b[1;32m    357\u001b[0m                 f\"should be pass as keyword, not positionally.\")\n\u001b[0;32m--> 358\u001b[0;31m         \u001b[0;32mreturn\u001b[0m \u001b[0mfunc\u001b[0m\u001b[0;34m(\u001b[0m\u001b[0;34m*\u001b[0m\u001b[0margs\u001b[0m\u001b[0;34m,\u001b[0m \u001b[0;34m**\u001b[0m\u001b[0mkwargs\u001b[0m\u001b[0;34m)\u001b[0m\u001b[0;34m\u001b[0m\u001b[0;34m\u001b[0m\u001b[0m\n\u001b[0m\u001b[1;32m    359\u001b[0m \u001b[0;34m\u001b[0m\u001b[0m\n\u001b[1;32m    360\u001b[0m     \u001b[0;32mreturn\u001b[0m \u001b[0mwrapper\u001b[0m\u001b[0;34m\u001b[0m\u001b[0;34m\u001b[0m\u001b[0m\n",
            "\u001b[0;32m/usr/local/lib/python3.8/dist-packages/matplotlib/axes/_axes.py\u001b[0m in \u001b[0;36mimshow\u001b[0;34m(self, X, cmap, norm, aspect, interpolation, alpha, vmin, vmax, origin, extent, shape, filternorm, filterrad, imlim, resample, url, **kwargs)\u001b[0m\n\u001b[1;32m   5620\u001b[0m             \u001b[0maspect\u001b[0m \u001b[0;34m=\u001b[0m \u001b[0mrcParams\u001b[0m\u001b[0;34m[\u001b[0m\u001b[0;34m'image.aspect'\u001b[0m\u001b[0;34m]\u001b[0m\u001b[0;34m\u001b[0m\u001b[0;34m\u001b[0m\u001b[0m\n\u001b[1;32m   5621\u001b[0m         \u001b[0mself\u001b[0m\u001b[0;34m.\u001b[0m\u001b[0mset_aspect\u001b[0m\u001b[0;34m(\u001b[0m\u001b[0maspect\u001b[0m\u001b[0;34m)\u001b[0m\u001b[0;34m\u001b[0m\u001b[0;34m\u001b[0m\u001b[0m\n\u001b[0;32m-> 5622\u001b[0;31m         im = mimage.AxesImage(self, cmap, norm, interpolation, origin, extent,\n\u001b[0m\u001b[1;32m   5623\u001b[0m                               \u001b[0mfilternorm\u001b[0m\u001b[0;34m=\u001b[0m\u001b[0mfilternorm\u001b[0m\u001b[0;34m,\u001b[0m \u001b[0mfilterrad\u001b[0m\u001b[0;34m=\u001b[0m\u001b[0mfilterrad\u001b[0m\u001b[0;34m,\u001b[0m\u001b[0;34m\u001b[0m\u001b[0;34m\u001b[0m\u001b[0m\n\u001b[1;32m   5624\u001b[0m                               resample=resample, **kwargs)\n",
            "\u001b[0;32m/usr/local/lib/python3.8/dist-packages/matplotlib/image.py\u001b[0m in \u001b[0;36m__init__\u001b[0;34m(self, ax, cmap, norm, interpolation, origin, extent, filternorm, filterrad, resample, **kwargs)\u001b[0m\n\u001b[1;32m    888\u001b[0m         \u001b[0mself\u001b[0m\u001b[0;34m.\u001b[0m\u001b[0m_extent\u001b[0m \u001b[0;34m=\u001b[0m \u001b[0mextent\u001b[0m\u001b[0;34m\u001b[0m\u001b[0;34m\u001b[0m\u001b[0m\n\u001b[1;32m    889\u001b[0m \u001b[0;34m\u001b[0m\u001b[0m\n\u001b[0;32m--> 890\u001b[0;31m         super().__init__(\n\u001b[0m\u001b[1;32m    891\u001b[0m             \u001b[0max\u001b[0m\u001b[0;34m,\u001b[0m\u001b[0;34m\u001b[0m\u001b[0;34m\u001b[0m\u001b[0m\n\u001b[1;32m    892\u001b[0m             \u001b[0mcmap\u001b[0m\u001b[0;34m=\u001b[0m\u001b[0mcmap\u001b[0m\u001b[0;34m,\u001b[0m\u001b[0;34m\u001b[0m\u001b[0;34m\u001b[0m\u001b[0m\n",
            "\u001b[0;32m/usr/local/lib/python3.8/dist-packages/matplotlib/image.py\u001b[0m in \u001b[0;36m__init__\u001b[0;34m(self, ax, cmap, norm, interpolation, origin, filternorm, filterrad, resample, **kwargs)\u001b[0m\n\u001b[1;32m    246\u001b[0m                  ):\n\u001b[1;32m    247\u001b[0m         \u001b[0mmartist\u001b[0m\u001b[0;34m.\u001b[0m\u001b[0mArtist\u001b[0m\u001b[0;34m.\u001b[0m\u001b[0m__init__\u001b[0m\u001b[0;34m(\u001b[0m\u001b[0mself\u001b[0m\u001b[0;34m)\u001b[0m\u001b[0;34m\u001b[0m\u001b[0;34m\u001b[0m\u001b[0m\n\u001b[0;32m--> 248\u001b[0;31m         \u001b[0mcm\u001b[0m\u001b[0;34m.\u001b[0m\u001b[0mScalarMappable\u001b[0m\u001b[0;34m.\u001b[0m\u001b[0m__init__\u001b[0m\u001b[0;34m(\u001b[0m\u001b[0mself\u001b[0m\u001b[0;34m,\u001b[0m \u001b[0mnorm\u001b[0m\u001b[0;34m,\u001b[0m \u001b[0mcmap\u001b[0m\u001b[0;34m)\u001b[0m\u001b[0;34m\u001b[0m\u001b[0;34m\u001b[0m\u001b[0m\n\u001b[0m\u001b[1;32m    249\u001b[0m         \u001b[0mself\u001b[0m\u001b[0;34m.\u001b[0m\u001b[0m_mouseover\u001b[0m \u001b[0;34m=\u001b[0m \u001b[0;32mTrue\u001b[0m\u001b[0;34m\u001b[0m\u001b[0;34m\u001b[0m\u001b[0m\n\u001b[1;32m    250\u001b[0m         \u001b[0;32mif\u001b[0m \u001b[0morigin\u001b[0m \u001b[0;32mis\u001b[0m \u001b[0;32mNone\u001b[0m\u001b[0;34m:\u001b[0m\u001b[0;34m\u001b[0m\u001b[0;34m\u001b[0m\u001b[0m\n",
            "\u001b[0;32m/usr/local/lib/python3.8/dist-packages/matplotlib/cm.py\u001b[0m in \u001b[0;36m__init__\u001b[0;34m(self, norm, cmap)\u001b[0m\n\u001b[1;32m    171\u001b[0m         \u001b[0mself\u001b[0m\u001b[0;34m.\u001b[0m\u001b[0mnorm\u001b[0m \u001b[0;34m=\u001b[0m \u001b[0mnorm\u001b[0m\u001b[0;34m\u001b[0m\u001b[0;34m\u001b[0m\u001b[0m\n\u001b[1;32m    172\u001b[0m         \u001b[0;31m#: The Colormap instance of this ScalarMappable.\u001b[0m\u001b[0;34m\u001b[0m\u001b[0;34m\u001b[0m\u001b[0;34m\u001b[0m\u001b[0m\n\u001b[0;32m--> 173\u001b[0;31m         \u001b[0mself\u001b[0m\u001b[0;34m.\u001b[0m\u001b[0mcmap\u001b[0m \u001b[0;34m=\u001b[0m \u001b[0mget_cmap\u001b[0m\u001b[0;34m(\u001b[0m\u001b[0mcmap\u001b[0m\u001b[0;34m)\u001b[0m\u001b[0;34m\u001b[0m\u001b[0;34m\u001b[0m\u001b[0m\n\u001b[0m\u001b[1;32m    174\u001b[0m         \u001b[0;31m#: The last colorbar associated with this ScalarMappable. May be None.\u001b[0m\u001b[0;34m\u001b[0m\u001b[0;34m\u001b[0m\u001b[0;34m\u001b[0m\u001b[0m\n\u001b[1;32m    175\u001b[0m         \u001b[0mself\u001b[0m\u001b[0;34m.\u001b[0m\u001b[0mcolorbar\u001b[0m \u001b[0;34m=\u001b[0m \u001b[0;32mNone\u001b[0m\u001b[0;34m\u001b[0m\u001b[0;34m\u001b[0m\u001b[0m\n",
            "\u001b[0;32m/usr/local/lib/python3.8/dist-packages/matplotlib/cm.py\u001b[0m in \u001b[0;36mget_cmap\u001b[0;34m(name, lut)\u001b[0m\n\u001b[1;32m    132\u001b[0m     \u001b[0;32mif\u001b[0m \u001b[0misinstance\u001b[0m\u001b[0;34m(\u001b[0m\u001b[0mname\u001b[0m\u001b[0;34m,\u001b[0m \u001b[0mcolors\u001b[0m\u001b[0;34m.\u001b[0m\u001b[0mColormap\u001b[0m\u001b[0;34m)\u001b[0m\u001b[0;34m:\u001b[0m\u001b[0;34m\u001b[0m\u001b[0;34m\u001b[0m\u001b[0m\n\u001b[1;32m    133\u001b[0m         \u001b[0;32mreturn\u001b[0m \u001b[0mname\u001b[0m\u001b[0;34m\u001b[0m\u001b[0;34m\u001b[0m\u001b[0m\n\u001b[0;32m--> 134\u001b[0;31m     \u001b[0mcbook\u001b[0m\u001b[0;34m.\u001b[0m\u001b[0m_check_in_list\u001b[0m\u001b[0;34m(\u001b[0m\u001b[0msorted\u001b[0m\u001b[0;34m(\u001b[0m\u001b[0mcmap_d\u001b[0m\u001b[0;34m)\u001b[0m\u001b[0;34m,\u001b[0m \u001b[0mname\u001b[0m\u001b[0;34m=\u001b[0m\u001b[0mname\u001b[0m\u001b[0;34m)\u001b[0m\u001b[0;34m\u001b[0m\u001b[0;34m\u001b[0m\u001b[0m\n\u001b[0m\u001b[1;32m    135\u001b[0m     \u001b[0;32mif\u001b[0m \u001b[0mlut\u001b[0m \u001b[0;32mis\u001b[0m \u001b[0;32mNone\u001b[0m\u001b[0;34m:\u001b[0m\u001b[0;34m\u001b[0m\u001b[0;34m\u001b[0m\u001b[0m\n\u001b[1;32m    136\u001b[0m         \u001b[0;32mreturn\u001b[0m \u001b[0mcmap_d\u001b[0m\u001b[0;34m[\u001b[0m\u001b[0mname\u001b[0m\u001b[0;34m]\u001b[0m\u001b[0;34m\u001b[0m\u001b[0;34m\u001b[0m\u001b[0m\n",
            "\u001b[0;32m/usr/local/lib/python3.8/dist-packages/matplotlib/cbook/__init__.py\u001b[0m in \u001b[0;36m_check_in_list\u001b[0;34m(_values, **kwargs)\u001b[0m\n\u001b[1;32m   2141\u001b[0m     \u001b[0;32mfor\u001b[0m \u001b[0mk\u001b[0m\u001b[0;34m,\u001b[0m \u001b[0mv\u001b[0m \u001b[0;32min\u001b[0m \u001b[0mkwargs\u001b[0m\u001b[0;34m.\u001b[0m\u001b[0mitems\u001b[0m\u001b[0;34m(\u001b[0m\u001b[0;34m)\u001b[0m\u001b[0;34m:\u001b[0m\u001b[0;34m\u001b[0m\u001b[0;34m\u001b[0m\u001b[0m\n\u001b[1;32m   2142\u001b[0m         \u001b[0;32mif\u001b[0m \u001b[0mv\u001b[0m \u001b[0;32mnot\u001b[0m \u001b[0;32min\u001b[0m \u001b[0mvalues\u001b[0m\u001b[0;34m:\u001b[0m\u001b[0;34m\u001b[0m\u001b[0;34m\u001b[0m\u001b[0m\n\u001b[0;32m-> 2143\u001b[0;31m             raise ValueError(\n\u001b[0m\u001b[1;32m   2144\u001b[0m                 \u001b[0;34m\"{!r} is not a valid value for {}; supported values are {}\"\u001b[0m\u001b[0;34m\u001b[0m\u001b[0;34m\u001b[0m\u001b[0m\n\u001b[1;32m   2145\u001b[0m                 .format(v, k, ', '.join(map(repr, values))))\n",
            "\u001b[0;31mValueError\u001b[0m: array([[0.17306129, 0.18839886, 0.18160997],\n       [0.2299057 , 0.24349972, 0.23676755],\n       [0.26355425, 0.26925869, 0.26496852],\n       [0.28313462, 0.2905721 , 0.28691635],\n       [0.2972975 , 0.30486611, 0.30416799],\n       [0.30515515, 0.31879121, 0.31460743],\n       [0.31071656, 0.32126471, 0.32149412],\n       [0.30751618, 0.32257636, 0.32095521],\n       [0.29454068, 0.31178033, 0.30920435],\n       [0.27241533, 0.29457587, 0.2891996 ]]) is not a valid value for name; supported values are 'Accent', 'Accent_r', 'Blues', 'Blues_r', 'BrBG', 'BrBG_r', 'BuGn', 'BuGn_r', 'BuPu', 'BuPu_r', 'CMRmap', 'CMRmap_r', 'Dark2', 'Dark2_r', 'GnBu', 'GnBu_r', 'Greens', 'Greens_r', 'Greys', 'Greys_r', 'OrRd', 'OrRd_r', 'Oranges', 'Oranges_r', 'PRGn', 'PRGn_r', 'Paired', 'Paired_r', 'Pastel1', 'Pastel1_r', 'Pastel2', 'Pastel2_r', 'PiYG', 'PiYG_r', 'PuBu', 'PuBuGn', 'PuBuGn_r', 'PuBu_r', 'PuOr', 'PuOr_r', 'PuRd', 'PuRd_r', 'Purples', 'Purples_r', 'RdBu', 'RdBu_r', 'RdGy', 'RdGy_r', 'RdPu', 'RdPu_r', 'RdYlBu', 'RdYlBu_r', 'RdYlGn', 'RdYlGn_r', 'Reds', 'Reds_r', 'Set1', 'Set1_r', 'Set2', 'Set2_r', 'Set3', 'Set3_r', 'Spectral', 'Spectral_r', 'Wistia', 'Wistia_r', 'YlGn', 'YlGnBu', 'YlGnBu_r', 'YlGn_r', 'YlOrBr', 'YlOrBr_r', 'YlOrRd', 'YlOrRd_r', 'afmhot', 'afmhot_r', 'autumn', 'autumn_r', 'binary', 'binary_r', 'bone', 'bone_r', 'brg', 'brg_r', 'bwr', 'bwr_r', 'cividis', 'cividis_r', 'cool', 'cool_r', 'coolwarm', 'coolwarm_r', 'copper', 'copper_r', 'crest', 'crest_r', 'cubehelix', 'cubehelix_r', 'flag', 'flag_r', 'flare', 'flare_r', 'gist_earth', 'gist_earth_r', 'gist_gray', 'gist_gray_r', 'gist_heat', 'gist_heat_r', 'gist_ncar', 'gist_ncar_r', 'gist_rainbow', 'gist_rainbow_r', 'gist_stern', 'gist_stern_r', 'gist_yarg', 'gist_yarg_r', 'gnuplot', 'gnuplot2', 'gnuplot2_r', 'gnuplot_r', 'gray', 'gray_r', 'hot', 'hot_r', 'hsv', 'hsv_r', 'icefire', 'icefire_r', 'inferno', 'inferno_r', 'jet'..."
          ]
        },
        {
          "output_type": "display_data",
          "data": {
            "text/plain": [
              "<Figure size 432x288 with 1 Axes>"
            ],
            "image/png": "[encoded data removed]"
          },
          "metadata": {
            "needs_background": "light"
          }
        }
      ]
    },
    {
      "cell_type": "code",
      "source": [
        "rfr = RandomForestRegressor(n_estimators = 50, max_depth = 17, max_features = 'sqrt', verbose = 1, n_jobs = -1)\n",
        "rfr = rfr.fit(X_train, y_train)"
      ],
      "metadata": {
        "colab": {
          "base_uri": "https://localhost:8080/"
        },
        "id": "c1fWZN9Wstex",
        "outputId": "05170529-1438-4512-c7ea-913212a20cc2"
      },
      "execution_count": 136,
      "outputs": [
        {
          "output_type": "stream",
          "name": "stderr",
          "text": [
            "[Parallel(n_jobs=-1)]: Using backend ThreadingBackend with 2 concurrent workers.\n",
            "[Parallel(n_jobs=-1)]: Done  46 tasks      | elapsed:    8.1s\n",
            "[Parallel(n_jobs=-1)]: Done  50 out of  50 | elapsed:    8.7s finished\n"
          ]
        }
      ]
    },
    {
      "cell_type": "code",
      "source": [
        "print(rfr.score(X_train,y_train))\n",
        "print(rfr.score(X_test, y_test))"
      ],
      "metadata": {
        "colab": {
          "base_uri": "https://localhost:8080/"
        },
        "id": "vAWQe96Bszwb",
        "outputId": "a0a1cd8a-7b66-49dd-c929-96cd9d467645"
      },
      "execution_count": 138,
      "outputs": [
        {
          "output_type": "stream",
          "name": "stderr",
          "text": [
            "[Parallel(n_jobs=2)]: Using backend ThreadingBackend with 2 concurrent workers.\n",
            "[Parallel(n_jobs=2)]: Done  46 tasks      | elapsed:    1.8s\n",
            "[Parallel(n_jobs=2)]: Done  50 out of  50 | elapsed:    1.9s finished\n",
            "[Parallel(n_jobs=2)]: Using backend ThreadingBackend with 2 concurrent workers.\n"
          ]
        },
        {
          "output_type": "stream",
          "name": "stdout",
          "text": [
            "0.7466643110399491\n",
            "0.38946180622970505\n"
          ]
        },
        {
          "output_type": "stream",
          "name": "stderr",
          "text": [
            "[Parallel(n_jobs=2)]: Done  46 tasks      | elapsed:    0.4s\n",
            "[Parallel(n_jobs=2)]: Done  50 out of  50 | elapsed:    0.4s finished\n"
          ]
        }
      ]
    },
    {
      "cell_type": "code",
      "source": [],
      "metadata": {
        "id": "pEVvSaDUs4oO"
      },
      "execution_count": null,
      "outputs": []
    }
  ]
}